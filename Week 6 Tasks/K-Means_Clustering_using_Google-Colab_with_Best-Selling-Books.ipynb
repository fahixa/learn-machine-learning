{
  "cells": [
    {
      "cell_type": "code",
      "execution_count": null,
      "metadata": {},
      "outputs": [],
      "source": [
        "# Nama : Fakhrity Hikmawan\n",
        "# NIM : 1103204074\n",
        "# Kelas : TK-44-G4"
      ]
    },
    {
      "cell_type": "code",
      "execution_count": null,
      "metadata": {
        "colab": {
          "base_uri": "https://localhost:8080/"
        },
        "id": "RzWMogdXPOKs",
        "outputId": "c1bb4a14-a3f0-492e-c3a1-780c7264d219"
      },
      "outputs": [
        {
          "name": "stdout",
          "output_type": "stream",
          "text": [
            "Drive already mounted at /content/drive; to attempt to forcibly remount, call drive.mount(\"/content/drive\", force_remount=True).\n"
          ]
        }
      ],
      "source": [
        "from google.colab import drive\n",
        "\n",
        "# Mount Google Drive ke direktori yang bisa diakses oleh Colab\n",
        "drive.mount('/content/drive')"
      ]
    },
    {
      "cell_type": "code",
      "execution_count": 24,
      "metadata": {
        "colab": {
          "base_uri": "https://localhost:8080/",
          "height": 397
        },
        "id": "EWSiwLNHQWbH",
        "outputId": "e9cf161b-e9ed-4e57-fdcd-9aab45dbb604"
      },
      "outputs": [
        {
          "data": {
            "text/html": [
              "\n",
              "  <div id=\"df-09b9fbbc-7164-4d55-8c76-01ceafe6ac81\" class=\"colab-df-container\">\n",
              "    <div>\n",
              "<style scoped>\n",
              "    .dataframe tbody tr th:only-of-type {\n",
              "        vertical-align: middle;\n",
              "    }\n",
              "\n",
              "    .dataframe tbody tr th {\n",
              "        vertical-align: top;\n",
              "    }\n",
              "\n",
              "    .dataframe thead th {\n",
              "        text-align: right;\n",
              "    }\n",
              "</style>\n",
              "<table border=\"1\" class=\"dataframe\">\n",
              "  <thead>\n",
              "    <tr style=\"text-align: right;\">\n",
              "      <th></th>\n",
              "      <th>Book</th>\n",
              "      <th>Author(s)</th>\n",
              "      <th>Original language</th>\n",
              "      <th>First published</th>\n",
              "      <th>Approximate sales in millions</th>\n",
              "      <th>Genre</th>\n",
              "    </tr>\n",
              "  </thead>\n",
              "  <tbody>\n",
              "    <tr>\n",
              "      <th>0</th>\n",
              "      <td>A Tale of Two Cities</td>\n",
              "      <td>Charles Dickens</td>\n",
              "      <td>English</td>\n",
              "      <td>1859</td>\n",
              "      <td>200.0</td>\n",
              "      <td>Historical fiction</td>\n",
              "    </tr>\n",
              "    <tr>\n",
              "      <th>1</th>\n",
              "      <td>The Little Prince (Le Petit Prince)</td>\n",
              "      <td>Antoine de Saint-Exupéry</td>\n",
              "      <td>French</td>\n",
              "      <td>1943</td>\n",
              "      <td>200.0</td>\n",
              "      <td>Novella</td>\n",
              "    </tr>\n",
              "    <tr>\n",
              "      <th>2</th>\n",
              "      <td>Harry Potter and the Philosopher's Stone</td>\n",
              "      <td>J. K. Rowling</td>\n",
              "      <td>English</td>\n",
              "      <td>1997</td>\n",
              "      <td>120.0</td>\n",
              "      <td>Fantasy</td>\n",
              "    </tr>\n",
              "    <tr>\n",
              "      <th>3</th>\n",
              "      <td>And Then There Were None</td>\n",
              "      <td>Agatha Christie</td>\n",
              "      <td>English</td>\n",
              "      <td>1939</td>\n",
              "      <td>100.0</td>\n",
              "      <td>Mystery</td>\n",
              "    </tr>\n",
              "    <tr>\n",
              "      <th>4</th>\n",
              "      <td>Dream of the Red Chamber (紅樓夢)</td>\n",
              "      <td>Cao Xueqin</td>\n",
              "      <td>Chinese</td>\n",
              "      <td>1791</td>\n",
              "      <td>100.0</td>\n",
              "      <td>Family saga</td>\n",
              "    </tr>\n",
              "  </tbody>\n",
              "</table>\n",
              "</div>\n",
              "    <div class=\"colab-df-buttons\">\n",
              "\n",
              "  <div class=\"colab-df-container\">\n",
              "    <button class=\"colab-df-convert\" onclick=\"convertToInteractive('df-09b9fbbc-7164-4d55-8c76-01ceafe6ac81')\"\n",
              "            title=\"Convert this dataframe to an interactive table.\"\n",
              "            style=\"display:none;\">\n",
              "\n",
              "  <svg xmlns=\"http://www.w3.org/2000/svg\" height=\"24px\" viewBox=\"0 -960 960 960\">\n",
              "    <path d=\"M120-120v-720h720v720H120Zm60-500h600v-160H180v160Zm220 220h160v-160H400v160Zm0 220h160v-160H400v160ZM180-400h160v-160H180v160Zm440 0h160v-160H620v160ZM180-180h160v-160H180v160Zm440 0h160v-160H620v160Z\"/>\n",
              "  </svg>\n",
              "    </button>\n",
              "\n",
              "  <style>\n",
              "    .colab-df-container {\n",
              "      display:flex;\n",
              "      gap: 12px;\n",
              "    }\n",
              "\n",
              "    .colab-df-convert {\n",
              "      background-color: #E8F0FE;\n",
              "      border: none;\n",
              "      border-radius: 50%;\n",
              "      cursor: pointer;\n",
              "      display: none;\n",
              "      fill: #1967D2;\n",
              "      height: 32px;\n",
              "      padding: 0 0 0 0;\n",
              "      width: 32px;\n",
              "    }\n",
              "\n",
              "    .colab-df-convert:hover {\n",
              "      background-color: #E2EBFA;\n",
              "      box-shadow: 0px 1px 2px rgba(60, 64, 67, 0.3), 0px 1px 3px 1px rgba(60, 64, 67, 0.15);\n",
              "      fill: #174EA6;\n",
              "    }\n",
              "\n",
              "    .colab-df-buttons div {\n",
              "      margin-bottom: 4px;\n",
              "    }\n",
              "\n",
              "    [theme=dark] .colab-df-convert {\n",
              "      background-color: #3B4455;\n",
              "      fill: #D2E3FC;\n",
              "    }\n",
              "\n",
              "    [theme=dark] .colab-df-convert:hover {\n",
              "      background-color: #434B5C;\n",
              "      box-shadow: 0px 1px 3px 1px rgba(0, 0, 0, 0.15);\n",
              "      filter: drop-shadow(0px 1px 2px rgba(0, 0, 0, 0.3));\n",
              "      fill: #FFFFFF;\n",
              "    }\n",
              "  </style>\n",
              "\n",
              "    <script>\n",
              "      const buttonEl =\n",
              "        document.querySelector('#df-09b9fbbc-7164-4d55-8c76-01ceafe6ac81 button.colab-df-convert');\n",
              "      buttonEl.style.display =\n",
              "        google.colab.kernel.accessAllowed ? 'block' : 'none';\n",
              "\n",
              "      async function convertToInteractive(key) {\n",
              "        const element = document.querySelector('#df-09b9fbbc-7164-4d55-8c76-01ceafe6ac81');\n",
              "        const dataTable =\n",
              "          await google.colab.kernel.invokeFunction('convertToInteractive',\n",
              "                                                    [key], {});\n",
              "        if (!dataTable) return;\n",
              "\n",
              "        const docLinkHtml = 'Like what you see? Visit the ' +\n",
              "          '<a target=\"_blank\" href=https://colab.research.google.com/notebooks/data_table.ipynb>data table notebook</a>'\n",
              "          + ' to learn more about interactive tables.';\n",
              "        element.innerHTML = '';\n",
              "        dataTable['output_type'] = 'display_data';\n",
              "        await google.colab.output.renderOutput(dataTable, element);\n",
              "        const docLink = document.createElement('div');\n",
              "        docLink.innerHTML = docLinkHtml;\n",
              "        element.appendChild(docLink);\n",
              "      }\n",
              "    </script>\n",
              "  </div>\n",
              "\n",
              "\n",
              "<div id=\"df-d45b049d-9d8c-458b-b695-13184a870d0d\">\n",
              "  <button class=\"colab-df-quickchart\" onclick=\"quickchart('df-d45b049d-9d8c-458b-b695-13184a870d0d')\"\n",
              "            title=\"Suggest charts\"\n",
              "            style=\"display:none;\">\n",
              "\n",
              "<svg xmlns=\"http://www.w3.org/2000/svg\" height=\"24px\"viewBox=\"0 0 24 24\"\n",
              "     width=\"24px\">\n",
              "    <g>\n",
              "        <path d=\"M19 3H5c-1.1 0-2 .9-2 2v14c0 1.1.9 2 2 2h14c1.1 0 2-.9 2-2V5c0-1.1-.9-2-2-2zM9 17H7v-7h2v7zm4 0h-2V7h2v10zm4 0h-2v-4h2v4z\"/>\n",
              "    </g>\n",
              "</svg>\n",
              "  </button>\n",
              "\n",
              "<style>\n",
              "  .colab-df-quickchart {\n",
              "      --bg-color: #E8F0FE;\n",
              "      --fill-color: #1967D2;\n",
              "      --hover-bg-color: #E2EBFA;\n",
              "      --hover-fill-color: #174EA6;\n",
              "      --disabled-fill-color: #AAA;\n",
              "      --disabled-bg-color: #DDD;\n",
              "  }\n",
              "\n",
              "  [theme=dark] .colab-df-quickchart {\n",
              "      --bg-color: #3B4455;\n",
              "      --fill-color: #D2E3FC;\n",
              "      --hover-bg-color: #434B5C;\n",
              "      --hover-fill-color: #FFFFFF;\n",
              "      --disabled-bg-color: #3B4455;\n",
              "      --disabled-fill-color: #666;\n",
              "  }\n",
              "\n",
              "  .colab-df-quickchart {\n",
              "    background-color: var(--bg-color);\n",
              "    border: none;\n",
              "    border-radius: 50%;\n",
              "    cursor: pointer;\n",
              "    display: none;\n",
              "    fill: var(--fill-color);\n",
              "    height: 32px;\n",
              "    padding: 0;\n",
              "    width: 32px;\n",
              "  }\n",
              "\n",
              "  .colab-df-quickchart:hover {\n",
              "    background-color: var(--hover-bg-color);\n",
              "    box-shadow: 0 1px 2px rgba(60, 64, 67, 0.3), 0 1px 3px 1px rgba(60, 64, 67, 0.15);\n",
              "    fill: var(--button-hover-fill-color);\n",
              "  }\n",
              "\n",
              "  .colab-df-quickchart-complete:disabled,\n",
              "  .colab-df-quickchart-complete:disabled:hover {\n",
              "    background-color: var(--disabled-bg-color);\n",
              "    fill: var(--disabled-fill-color);\n",
              "    box-shadow: none;\n",
              "  }\n",
              "\n",
              "  .colab-df-spinner {\n",
              "    border: 2px solid var(--fill-color);\n",
              "    border-color: transparent;\n",
              "    border-bottom-color: var(--fill-color);\n",
              "    animation:\n",
              "      spin 1s steps(1) infinite;\n",
              "  }\n",
              "\n",
              "  @keyframes spin {\n",
              "    0% {\n",
              "      border-color: transparent;\n",
              "      border-bottom-color: var(--fill-color);\n",
              "      border-left-color: var(--fill-color);\n",
              "    }\n",
              "    20% {\n",
              "      border-color: transparent;\n",
              "      border-left-color: var(--fill-color);\n",
              "      border-top-color: var(--fill-color);\n",
              "    }\n",
              "    30% {\n",
              "      border-color: transparent;\n",
              "      border-left-color: var(--fill-color);\n",
              "      border-top-color: var(--fill-color);\n",
              "      border-right-color: var(--fill-color);\n",
              "    }\n",
              "    40% {\n",
              "      border-color: transparent;\n",
              "      border-right-color: var(--fill-color);\n",
              "      border-top-color: var(--fill-color);\n",
              "    }\n",
              "    60% {\n",
              "      border-color: transparent;\n",
              "      border-right-color: var(--fill-color);\n",
              "    }\n",
              "    80% {\n",
              "      border-color: transparent;\n",
              "      border-right-color: var(--fill-color);\n",
              "      border-bottom-color: var(--fill-color);\n",
              "    }\n",
              "    90% {\n",
              "      border-color: transparent;\n",
              "      border-bottom-color: var(--fill-color);\n",
              "    }\n",
              "  }\n",
              "</style>\n",
              "\n",
              "  <script>\n",
              "    async function quickchart(key) {\n",
              "      const quickchartButtonEl =\n",
              "        document.querySelector('#' + key + ' button');\n",
              "      quickchartButtonEl.disabled = true;  // To prevent multiple clicks.\n",
              "      quickchartButtonEl.classList.add('colab-df-spinner');\n",
              "      try {\n",
              "        const charts = await google.colab.kernel.invokeFunction(\n",
              "            'suggestCharts', [key], {});\n",
              "      } catch (error) {\n",
              "        console.error('Error during call to suggestCharts:', error);\n",
              "      }\n",
              "      quickchartButtonEl.classList.remove('colab-df-spinner');\n",
              "      quickchartButtonEl.classList.add('colab-df-quickchart-complete');\n",
              "    }\n",
              "    (() => {\n",
              "      let quickchartButtonEl =\n",
              "        document.querySelector('#df-d45b049d-9d8c-458b-b695-13184a870d0d button');\n",
              "      quickchartButtonEl.style.display =\n",
              "        google.colab.kernel.accessAllowed ? 'block' : 'none';\n",
              "    })();\n",
              "  </script>\n",
              "</div>\n",
              "    </div>\n",
              "  </div>\n"
            ],
            "text/plain": [
              "                                       Book                 Author(s)  \\\n",
              "0                      A Tale of Two Cities           Charles Dickens   \n",
              "1       The Little Prince (Le Petit Prince)  Antoine de Saint-Exupéry   \n",
              "2  Harry Potter and the Philosopher's Stone             J. K. Rowling   \n",
              "3                  And Then There Were None           Agatha Christie   \n",
              "4            Dream of the Red Chamber (紅樓夢)                Cao Xueqin   \n",
              "\n",
              "  Original language  First published  Approximate sales in millions  \\\n",
              "0           English             1859                          200.0   \n",
              "1            French             1943                          200.0   \n",
              "2           English             1997                          120.0   \n",
              "3           English             1939                          100.0   \n",
              "4           Chinese             1791                          100.0   \n",
              "\n",
              "                Genre  \n",
              "0  Historical fiction  \n",
              "1             Novella  \n",
              "2             Fantasy  \n",
              "3             Mystery  \n",
              "4         Family saga  "
            ]
          },
          "execution_count": 24,
          "metadata": {},
          "output_type": "execute_result"
        }
      ],
      "source": [
        "import pandas as pd  # Mengimpor library pandas dan memberikan alias sebagai pd\n",
        "\n",
        "# Membaca file CSV dari Google Drive dan menyimpannya ke dalam variabel 'df'\n",
        "df = pd.read_csv('/content/drive/MyDrive/DATASET/best-selling-books.csv')\n",
        "\n",
        "# Menampilkan beberapa baris pertama dari DataFrame untuk memeriksa\n",
        "df.head()"
      ]
    },
    {
      "cell_type": "code",
      "execution_count": 25,
      "metadata": {
        "colab": {
          "base_uri": "https://localhost:8080/"
        },
        "id": "evc_klzyQywL",
        "outputId": "c60c6d43-c907-4fa8-8d44-cb3f193b4500"
      },
      "outputs": [
        {
          "name": "stdout",
          "output_type": "stream",
          "text": [
            "                                       Book                    Author  \\\n",
            "0                      A Tale of Two Cities           Charles Dickens   \n",
            "1       The Little Prince (Le Petit Prince)  Antoine de Saint-Exupéry   \n",
            "2  Harry Potter and the Philosopher's Stone             J. K. Rowling   \n",
            "3                  And Then There Were None           Agatha Christie   \n",
            "4            Dream of the Red Chamber (紅樓夢)                Cao Xueqin   \n",
            "\n",
            "  Original language  First published  Approximate sales in millions  \\\n",
            "0           English             1859                          200.0   \n",
            "1            French             1943                          200.0   \n",
            "2           English             1997                          120.0   \n",
            "3           English             1939                          100.0   \n",
            "4           Chinese             1791                          100.0   \n",
            "\n",
            "                Genre  \n",
            "0  Historical fiction  \n",
            "1             Novella  \n",
            "2             Fantasy  \n",
            "3             Mystery  \n",
            "4         Family saga  \n"
          ]
        }
      ],
      "source": [
        "# Mengganti nama kolom 'Author(s)' menjadi 'Author' pada DataFrame 'df'\n",
        "df.rename(columns={'Author(s)': 'Author'}, inplace=True)\n",
        "\n",
        "# Menampilkan beberapa baris pertama dari DataFrame untuk memeriksa\n",
        "print(df.head())"
      ]
    },
    {
      "cell_type": "code",
      "execution_count": 26,
      "metadata": {
        "colab": {
          "base_uri": "https://localhost:8080/"
        },
        "id": "tVFKPQJe2PXJ",
        "outputId": "b9a9cdb7-3be6-4367-ac1c-932b2b635fde"
      },
      "outputs": [
        {
          "name": "stdout",
          "output_type": "stream",
          "text": [
            "                                       Book                    Author  \\\n",
            "0                      A Tale of Two Cities           Charles Dickens   \n",
            "1       The Little Prince (Le Petit Prince)  Antoine de Saint-Exupéry   \n",
            "2  Harry Potter and the Philosopher's Stone             J. K. Rowling   \n",
            "3                  And Then There Were None           Agatha Christie   \n",
            "4            Dream of the Red Chamber (紅樓夢)                Cao Xueqin   \n",
            "\n",
            "   First published  Approximate sales in millions  \n",
            "0             1859                          200.0  \n",
            "1             1943                          200.0  \n",
            "2             1997                          120.0  \n",
            "3             1939                          100.0  \n",
            "4             1791                          100.0  \n"
          ]
        }
      ],
      "source": [
        "# Menghapus kolom 'Genre' dan 'Original language' dari DataFrame 'df'\n",
        "df.drop(['Genre', 'Original language'], axis=1, inplace=True)\n",
        "\n",
        "# Menampilkan beberapa baris pertama dari DataFrame untuk memeriksa\n",
        "print(df.head())"
      ]
    },
    {
      "cell_type": "code",
      "execution_count": 27,
      "metadata": {
        "colab": {
          "base_uri": "https://localhost:8080/",
          "height": 752
        },
        "id": "ugqdkaHg27An",
        "outputId": "49461689-3584-40d0-c059-1c40b42ea55c"
      },
      "outputs": [
        {
          "name": "stderr",
          "output_type": "stream",
          "text": [
            "/usr/local/lib/python3.10/dist-packages/sklearn/cluster/_kmeans.py:870: FutureWarning: The default value of `n_init` will change from 10 to 'auto' in 1.4. Set the value of `n_init` explicitly to suppress the warning\n",
            "  warnings.warn(\n",
            "/usr/local/lib/python3.10/dist-packages/sklearn/cluster/_kmeans.py:870: FutureWarning: The default value of `n_init` will change from 10 to 'auto' in 1.4. Set the value of `n_init` explicitly to suppress the warning\n",
            "  warnings.warn(\n",
            "/usr/local/lib/python3.10/dist-packages/sklearn/cluster/_kmeans.py:870: FutureWarning: The default value of `n_init` will change from 10 to 'auto' in 1.4. Set the value of `n_init` explicitly to suppress the warning\n",
            "  warnings.warn(\n",
            "/usr/local/lib/python3.10/dist-packages/sklearn/cluster/_kmeans.py:870: FutureWarning: The default value of `n_init` will change from 10 to 'auto' in 1.4. Set the value of `n_init` explicitly to suppress the warning\n",
            "  warnings.warn(\n",
            "/usr/local/lib/python3.10/dist-packages/sklearn/cluster/_kmeans.py:870: FutureWarning: The default value of `n_init` will change from 10 to 'auto' in 1.4. Set the value of `n_init` explicitly to suppress the warning\n",
            "  warnings.warn(\n",
            "/usr/local/lib/python3.10/dist-packages/sklearn/cluster/_kmeans.py:870: FutureWarning: The default value of `n_init` will change from 10 to 'auto' in 1.4. Set the value of `n_init` explicitly to suppress the warning\n",
            "  warnings.warn(\n",
            "/usr/local/lib/python3.10/dist-packages/sklearn/cluster/_kmeans.py:870: FutureWarning: The default value of `n_init` will change from 10 to 'auto' in 1.4. Set the value of `n_init` explicitly to suppress the warning\n",
            "  warnings.warn(\n",
            "/usr/local/lib/python3.10/dist-packages/sklearn/cluster/_kmeans.py:870: FutureWarning: The default value of `n_init` will change from 10 to 'auto' in 1.4. Set the value of `n_init` explicitly to suppress the warning\n",
            "  warnings.warn(\n",
            "/usr/local/lib/python3.10/dist-packages/sklearn/cluster/_kmeans.py:870: FutureWarning: The default value of `n_init` will change from 10 to 'auto' in 1.4. Set the value of `n_init` explicitly to suppress the warning\n",
            "  warnings.warn(\n",
            "/usr/local/lib/python3.10/dist-packages/sklearn/cluster/_kmeans.py:870: FutureWarning: The default value of `n_init` will change from 10 to 'auto' in 1.4. Set the value of `n_init` explicitly to suppress the warning\n",
            "  warnings.warn(\n"
          ]
        },
        {
          "data": {
            "image/png": "[encoded data removed]",
            "text/plain": [
              "<Figure size 800x400 with 1 Axes>"
            ]
          },
          "metadata": {},
          "output_type": "display_data"
        }
      ],
      "source": [
        "# Mengimpor library yang diperlukan untuk clustering dan visualisasi\n",
        "from sklearn.cluster import KMeans\n",
        "import matplotlib.pyplot as plt\n",
        "\n",
        "# Menyiapkan data untuk clustering, hanya menggunakan kolom 'First published' dan 'Approximate sales in millions'\n",
        "X = df[['First published', 'Approximate sales in millions']]\n",
        "\n",
        "# Menginisialisasi list untuk menyimpan nilai inersia untuk setiap nilai k\n",
        "inertia = []\n",
        "\n",
        "# Menghitung nilai inersia untuk k dari 1 hingga 10\n",
        "for k in range(1, 11):\n",
        "    # Membuat model KMeans dengan k klaster\n",
        "    kmeans = KMeans(n_clusters=k, random_state=42)\n",
        "    # Fitting model KMeans pada data X\n",
        "    kmeans.fit(X)\n",
        "    # Menambahkan nilai inersia (within-cluster sum-of-squares) ke dalam list\n",
        "    inertia.append(kmeans.inertia_)\n",
        "\n",
        "# Membuat plot untuk metode elbow\n",
        "plt.figure(figsize=(8, 4))\n",
        "plt.plot(range(1, 11), inertia, marker='o')\n",
        "plt.title('Elbow Method')\n",
        "plt.xlabel('Number of clusters')\n",
        "plt.ylabel('Inertia')\n",
        "plt.xticks(range(1, 11))\n",
        "plt.show()\n"
      ]
    },
    {
      "cell_type": "code",
      "execution_count": 29,
      "metadata": {
        "colab": {
          "base_uri": "https://localhost:8080/",
          "height": 438
        },
        "id": "l6tUW0_S5tlR",
        "outputId": "d246bf76-0224-4fa2-fd66-30acdee4cc5b"
      },
      "outputs": [
        {
          "name": "stderr",
          "output_type": "stream",
          "text": [
            "/usr/local/lib/python3.10/dist-packages/sklearn/cluster/_kmeans.py:870: FutureWarning: The default value of `n_init` will change from 10 to 'auto' in 1.4. Set the value of `n_init` explicitly to suppress the warning\n",
            "  warnings.warn(\n"
          ]
        },
        {
          "data": {
            "image/png": "[encoded data removed]",
            "text/plain": [
              "<Figure size 800x400 with 1 Axes>"
            ]
          },
          "metadata": {},
          "output_type": "display_data"
        }
      ],
      "source": [
        "# Membuat model k-means dengan 2 cluster\n",
        "kmeans = KMeans(n_clusters=2, random_state=42)\n",
        "# Menyesuaikan model pada data X dan memprediksi label cluster untuk setiap sampel\n",
        "df['label'] = kmeans.fit_predict(X)\n",
        "\n",
        "# Membuat plot visualisasi hasil clustering berdasarkan label\n",
        "plt.figure(figsize=(8, 4))\n",
        "# Memplot sampel dengan label 0\n",
        "plt.scatter(df[df['label'] == 0]['First published'], df[df['label'] == 0]['Approximate sales in millions'], c='blue', label='Cluster 1')\n",
        "# Memplot sampel dengan label 1\n",
        "plt.scatter(df[df['label'] == 1]['First published'], df[df['label'] == 1]['Approximate sales in millions'], c='red', label='Cluster 2')\n",
        "# Menampilkan centroid dari masing-masing cluster\n",
        "plt.scatter(kmeans.cluster_centers_[:, 0], kmeans.cluster_centers_[:, 1], c='yellow', label='Centroids')\n",
        "plt.title('K-Means Clustering')\n",
        "plt.xlabel('First published')\n",
        "plt.ylabel('Approximate sales in millions')\n",
        "plt.legend()\n",
        "plt.show()\n"
      ]
    },
    {
      "cell_type": "code",
      "execution_count": 34,
      "metadata": {
        "colab": {
          "base_uri": "https://localhost:8080/"
        },
        "id": "paQXr_B76pRE",
        "outputId": "64005dfc-5661-4024-cf54-d18b667ce927"
      },
      "outputs": [
        {
          "name": "stderr",
          "output_type": "stream",
          "text": [
            "/usr/local/lib/python3.10/dist-packages/sklearn/cluster/_kmeans.py:870: FutureWarning: The default value of `n_init` will change from 10 to 'auto' in 1.4. Set the value of `n_init` explicitly to suppress the warning\n",
            "  warnings.warn(\n",
            "/usr/local/lib/python3.10/dist-packages/sklearn/cluster/_kmeans.py:870: FutureWarning: The default value of `n_init` will change from 10 to 'auto' in 1.4. Set the value of `n_init` explicitly to suppress the warning\n",
            "  warnings.warn(\n",
            "/usr/local/lib/python3.10/dist-packages/sklearn/cluster/_kmeans.py:870: FutureWarning: The default value of `n_init` will change from 10 to 'auto' in 1.4. Set the value of `n_init` explicitly to suppress the warning\n",
            "  warnings.warn(\n"
          ]
        },
        {
          "name": "stdout",
          "output_type": "stream",
          "text": [
            "Silhouette Score for k=2: 0.9112751030766804\n",
            "Silhouette Score for k=3: 0.6194544295250444\n",
            "Silhouette Score for k=4: 0.388308007937828\n"
          ]
        },
        {
          "name": "stderr",
          "output_type": "stream",
          "text": [
            "/usr/local/lib/python3.10/dist-packages/sklearn/cluster/_kmeans.py:870: FutureWarning: The default value of `n_init` will change from 10 to 'auto' in 1.4. Set the value of `n_init` explicitly to suppress the warning\n",
            "  warnings.warn(\n",
            "/usr/local/lib/python3.10/dist-packages/sklearn/cluster/_kmeans.py:870: FutureWarning: The default value of `n_init` will change from 10 to 'auto' in 1.4. Set the value of `n_init` explicitly to suppress the warning\n",
            "  warnings.warn(\n"
          ]
        },
        {
          "name": "stdout",
          "output_type": "stream",
          "text": [
            "Silhouette Score for k=5: 0.41105757585547675\n",
            "Silhouette Score for k=6: 0.4576353730994602\n"
          ]
        },
        {
          "name": "stderr",
          "output_type": "stream",
          "text": [
            "/usr/local/lib/python3.10/dist-packages/sklearn/cluster/_kmeans.py:870: FutureWarning: The default value of `n_init` will change from 10 to 'auto' in 1.4. Set the value of `n_init` explicitly to suppress the warning\n",
            "  warnings.warn(\n"
          ]
        },
        {
          "name": "stdout",
          "output_type": "stream",
          "text": [
            "Silhouette Score for k=7: 0.4646298202860503\n",
            "Silhouette Score for k=8: 0.41768743953442933\n"
          ]
        },
        {
          "name": "stderr",
          "output_type": "stream",
          "text": [
            "/usr/local/lib/python3.10/dist-packages/sklearn/cluster/_kmeans.py:870: FutureWarning: The default value of `n_init` will change from 10 to 'auto' in 1.4. Set the value of `n_init` explicitly to suppress the warning\n",
            "  warnings.warn(\n",
            "/usr/local/lib/python3.10/dist-packages/sklearn/cluster/_kmeans.py:870: FutureWarning: The default value of `n_init` will change from 10 to 'auto' in 1.4. Set the value of `n_init` explicitly to suppress the warning\n",
            "  warnings.warn(\n"
          ]
        },
        {
          "name": "stdout",
          "output_type": "stream",
          "text": [
            "Silhouette Score for k=9: 0.43786740246054595\n"
          ]
        },
        {
          "name": "stderr",
          "output_type": "stream",
          "text": [
            "/usr/local/lib/python3.10/dist-packages/sklearn/cluster/_kmeans.py:870: FutureWarning: The default value of `n_init` will change from 10 to 'auto' in 1.4. Set the value of `n_init` explicitly to suppress the warning\n",
            "  warnings.warn(\n"
          ]
        },
        {
          "name": "stdout",
          "output_type": "stream",
          "text": [
            "Silhouette Score for k=10: 0.4729273413712544\n"
          ]
        }
      ],
      "source": [
        "# Mengimpor library yang dibutuhkan\n",
        "from sklearn.metrics import silhouette_score\n",
        "\n",
        "# Membuat dictionary untuk menyimpan nilai Silhouette Scores\n",
        "silhouette_scores = {}\n",
        "\n",
        "# Menghitung Silhouette Score untuk k dari 2 hingga 10\n",
        "for k in range(2, 11):\n",
        "    # Membuat dan menyesuaikan model KMeans\n",
        "    kmeans = KMeans(n_clusters=k, random_state=0).fit(X)\n",
        "    # Menghitung Silhouette Score dan menyimpannya dalam dictionary\n",
        "    score = silhouette_score(X, kmeans.labels_)\n",
        "    silhouette_scores[k] = score\n",
        "    # Mencetak nilai Silhouette Score\n",
        "    print(f\"Silhouette Score for k={k}: {score}\")\n"
      ]
    },
    {
      "cell_type": "code",
      "execution_count": 35,
      "metadata": {
        "colab": {
          "base_uri": "https://localhost:8080/"
        },
        "id": "Xm76EqQA7cFU",
        "outputId": "da0127ca-2380-4d86-a313-df5ed0babb42"
      },
      "outputs": [
        {
          "name": "stderr",
          "output_type": "stream",
          "text": [
            "/usr/local/lib/python3.10/dist-packages/sklearn/cluster/_kmeans.py:870: FutureWarning: The default value of `n_init` will change from 10 to 'auto' in 1.4. Set the value of `n_init` explicitly to suppress the warning\n",
            "  warnings.warn(\n",
            "/usr/local/lib/python3.10/dist-packages/sklearn/cluster/_kmeans.py:870: FutureWarning: The default value of `n_init` will change from 10 to 'auto' in 1.4. Set the value of `n_init` explicitly to suppress the warning\n",
            "  warnings.warn(\n",
            "/usr/local/lib/python3.10/dist-packages/sklearn/cluster/_kmeans.py:870: FutureWarning: The default value of `n_init` will change from 10 to 'auto' in 1.4. Set the value of `n_init` explicitly to suppress the warning\n",
            "  warnings.warn(\n",
            "/usr/local/lib/python3.10/dist-packages/sklearn/cluster/_kmeans.py:870: FutureWarning: The default value of `n_init` will change from 10 to 'auto' in 1.4. Set the value of `n_init` explicitly to suppress the warning\n",
            "  warnings.warn(\n",
            "/usr/local/lib/python3.10/dist-packages/sklearn/cluster/_kmeans.py:870: FutureWarning: The default value of `n_init` will change from 10 to 'auto' in 1.4. Set the value of `n_init` explicitly to suppress the warning\n",
            "  warnings.warn(\n"
          ]
        },
        {
          "name": "stdout",
          "output_type": "stream",
          "text": [
            "Davies-Bouldin Index for k=2: 0.057257948005993514\n",
            "Davies-Bouldin Index for k=3: 0.5717669202487764\n",
            "Davies-Bouldin Index for k=4: 0.7050145599632723\n",
            "Davies-Bouldin Index for k=5: 0.7145110320319411\n",
            "Davies-Bouldin Index for k=6: 0.6016686244941515\n",
            "Davies-Bouldin Index for k=7: 0.5891284756888153\n",
            "Davies-Bouldin Index for k=8: 0.6005363222757863\n",
            "Davies-Bouldin Index for k=9: 0.6287523627999244\n"
          ]
        },
        {
          "name": "stderr",
          "output_type": "stream",
          "text": [
            "/usr/local/lib/python3.10/dist-packages/sklearn/cluster/_kmeans.py:870: FutureWarning: The default value of `n_init` will change from 10 to 'auto' in 1.4. Set the value of `n_init` explicitly to suppress the warning\n",
            "  warnings.warn(\n",
            "/usr/local/lib/python3.10/dist-packages/sklearn/cluster/_kmeans.py:870: FutureWarning: The default value of `n_init` will change from 10 to 'auto' in 1.4. Set the value of `n_init` explicitly to suppress the warning\n",
            "  warnings.warn(\n",
            "/usr/local/lib/python3.10/dist-packages/sklearn/cluster/_kmeans.py:870: FutureWarning: The default value of `n_init` will change from 10 to 'auto' in 1.4. Set the value of `n_init` explicitly to suppress the warning\n",
            "  warnings.warn(\n"
          ]
        },
        {
          "name": "stdout",
          "output_type": "stream",
          "text": [
            "Davies-Bouldin Index for k=10: 0.5573715322625239\n"
          ]
        },
        {
          "name": "stderr",
          "output_type": "stream",
          "text": [
            "/usr/local/lib/python3.10/dist-packages/sklearn/cluster/_kmeans.py:870: FutureWarning: The default value of `n_init` will change from 10 to 'auto' in 1.4. Set the value of `n_init` explicitly to suppress the warning\n",
            "  warnings.warn(\n"
          ]
        }
      ],
      "source": [
        "# Mengimpor library yang dibutuhkan untuk clustering dan menghitung DBI\n",
        "from sklearn.metrics import davies_bouldin_score\n",
        "\n",
        "# Membuat dictionary untuk menyimpan nilai DBI untuk setiap nilai k\n",
        "dbi_scores = {}\n",
        "\n",
        "# Menghitung DBI untuk setiap k dari 2 hingga 10\n",
        "for k in range(2, 11):\n",
        "    # Membuat model KMeans dengan jumlah cluster sebanyak k\n",
        "    kmeans = KMeans(n_clusters=k, random_state=0).fit(X)\n",
        "    # Menghitung nilai DBI dan menyimpannya dalam dictionary\n",
        "    dbi = davies_bouldin_score(X, kmeans.labels_)\n",
        "    dbi_scores[k] = dbi\n",
        "    # Mencetak nilai DBI untuk setiap k\n",
        "    print(f\"Davies-Bouldin Index for k={k}: {dbi}\")\n"
      ]
    },
    {
      "cell_type": "code",
      "execution_count": 36,
      "metadata": {
        "colab": {
          "base_uri": "https://localhost:8080/"
        },
        "id": "YJcd1KQ58HLQ",
        "outputId": "e5c66e71-754b-4bb8-fcff-49bf9f2bfe77"
      },
      "outputs": [
        {
          "name": "stderr",
          "output_type": "stream",
          "text": [
            "/usr/local/lib/python3.10/dist-packages/sklearn/cluster/_kmeans.py:870: FutureWarning: The default value of `n_init` will change from 10 to 'auto' in 1.4. Set the value of `n_init` explicitly to suppress the warning\n",
            "  warnings.warn(\n",
            "/usr/local/lib/python3.10/dist-packages/sklearn/cluster/_kmeans.py:870: FutureWarning: The default value of `n_init` will change from 10 to 'auto' in 1.4. Set the value of `n_init` explicitly to suppress the warning\n",
            "  warnings.warn(\n",
            "/usr/local/lib/python3.10/dist-packages/sklearn/cluster/_kmeans.py:870: FutureWarning: The default value of `n_init` will change from 10 to 'auto' in 1.4. Set the value of `n_init` explicitly to suppress the warning\n",
            "  warnings.warn(\n"
          ]
        },
        {
          "name": "stdout",
          "output_type": "stream",
          "text": [
            "Calinski-Harabasz Index for k=2: 181.66245765992528\n",
            "Calinski-Harabasz Index for k=3: 222.9035147147288\n",
            "Calinski-Harabasz Index for k=4: 233.64723130524501\n",
            "Calinski-Harabasz Index for k=5: 254.982240104343\n"
          ]
        },
        {
          "name": "stderr",
          "output_type": "stream",
          "text": [
            "/usr/local/lib/python3.10/dist-packages/sklearn/cluster/_kmeans.py:870: FutureWarning: The default value of `n_init` will change from 10 to 'auto' in 1.4. Set the value of `n_init` explicitly to suppress the warning\n",
            "  warnings.warn(\n",
            "/usr/local/lib/python3.10/dist-packages/sklearn/cluster/_kmeans.py:870: FutureWarning: The default value of `n_init` will change from 10 to 'auto' in 1.4. Set the value of `n_init` explicitly to suppress the warning\n",
            "  warnings.warn(\n",
            "/usr/local/lib/python3.10/dist-packages/sklearn/cluster/_kmeans.py:870: FutureWarning: The default value of `n_init` will change from 10 to 'auto' in 1.4. Set the value of `n_init` explicitly to suppress the warning\n",
            "  warnings.warn(\n",
            "/usr/local/lib/python3.10/dist-packages/sklearn/cluster/_kmeans.py:870: FutureWarning: The default value of `n_init` will change from 10 to 'auto' in 1.4. Set the value of `n_init` explicitly to suppress the warning\n",
            "  warnings.warn(\n"
          ]
        },
        {
          "name": "stdout",
          "output_type": "stream",
          "text": [
            "Calinski-Harabasz Index for k=6: 297.23559885538083\n",
            "Calinski-Harabasz Index for k=7: 325.4741072476442\n",
            "Calinski-Harabasz Index for k=8: 356.07847243943286\n",
            "Calinski-Harabasz Index for k=9: 376.4675952978705\n",
            "Calinski-Harabasz Index for k=10: 422.0362519437028\n"
          ]
        },
        {
          "name": "stderr",
          "output_type": "stream",
          "text": [
            "/usr/local/lib/python3.10/dist-packages/sklearn/cluster/_kmeans.py:870: FutureWarning: The default value of `n_init` will change from 10 to 'auto' in 1.4. Set the value of `n_init` explicitly to suppress the warning\n",
            "  warnings.warn(\n",
            "/usr/local/lib/python3.10/dist-packages/sklearn/cluster/_kmeans.py:870: FutureWarning: The default value of `n_init` will change from 10 to 'auto' in 1.4. Set the value of `n_init` explicitly to suppress the warning\n",
            "  warnings.warn(\n"
          ]
        }
      ],
      "source": [
        "# Mengimpor modul yang diperlukan untuk clustering dan menghitung Calinski-Harabasz Index\n",
        "from sklearn.metrics import calinski_harabasz_score\n",
        "\n",
        "# Membuat dictionary untuk menyimpan nilai Calinski-Harabasz Index untuk setiap nilai k\n",
        "calinski_harabasz_scores = {}\n",
        "\n",
        "# Menghitung Calinski-Harabasz Index untuk setiap k dari 2 hingga 10\n",
        "for k in range(2, 11):\n",
        "    # Membuat model KMeans dengan jumlah cluster k\n",
        "    kmeans = KMeans(n_clusters=k, random_state=0).fit(X)\n",
        "    # Menghitung nilai Calinski-Harabasz Index dan menyimpannya dalam dictionary\n",
        "    ch_score = calinski_harabasz_score(X, kmeans.labels_)\n",
        "    calinski_harabasz_scores[k] = ch_score\n",
        "    # Mencetak nilai Calinski-Harabasz Index untuk setiap k\n",
        "    print(f\"Calinski-Harabasz Index for k={k}: {ch_score}\")\n"
      ]
    }
  ],
  "metadata": {
    "colab": {
      "provenance": []
    },
    "kernelspec": {
      "display_name": "Python 3",
      "name": "python3"
    },
    "language_info": {
      "name": "python"
    }
  },
  "nbformat": 4,
  "nbformat_minor": 0
}
