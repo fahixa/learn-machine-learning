{
  "cells": [
    {
      "cell_type": "code",
      "execution_count": 67,
      "metadata": {
        "id": "oPlkiDAH3Qtc"
      },
      "outputs": [],
      "source": [
        "# Nama : Fakhrity Hikmawan\n",
        "# NIM : 1103204074\n",
        "# Kelas : TK-44-G4"
      ]
    },
    {
      "cell_type": "code",
      "execution_count": 68,
      "metadata": {
        "colab": {
          "base_uri": "https://localhost:8080/"
        },
        "id": "v85KD6Y931cW",
        "outputId": "db037fb4-e412-4f17-a5e2-e383b292269e"
      },
      "outputs": [
        {
          "name": "stdout",
          "output_type": "stream",
          "text": [
            "Drive already mounted at /content/drive; to attempt to forcibly remount, call drive.mount(\"/content/drive\", force_remount=True).\n"
          ]
        }
      ],
      "source": [
        "from google.colab import drive\n",
        "drive.mount('/content/drive')"
      ]
    },
    {
      "cell_type": "code",
      "execution_count": 69,
      "metadata": {
        "id": "HHJfDkqh4Bc1"
      },
      "outputs": [],
      "source": [
        "import pandas as pd\n",
        "import numpy as np\n",
        "from sklearn.model_selection import train_test_split\n",
        "from sklearn.preprocessing import StandardScaler\n",
        "import tensorflow as tf\n",
        "from tensorflow.keras.models import Sequential\n",
        "from tensorflow.keras.layers import Dense"
      ]
    },
    {
      "cell_type": "code",
      "execution_count": 70,
      "metadata": {
        "id": "qbRY9a2G4Erc"
      },
      "outputs": [],
      "source": [
        "data = pd.read_csv('/content/drive/MyDrive/Dataset/Social_Network_Ads.csv')"
      ]
    },
    {
      "cell_type": "code",
      "execution_count": 71,
      "metadata": {
        "colab": {
          "base_uri": "https://localhost:8080/",
          "height": 206
        },
        "id": "l2VzCcTz4OaB",
        "outputId": "664dce31-07b2-49a6-fa63-e8e0b9b1a501"
      },
      "outputs": [
        {
          "data": {
            "text/html": [
              "\n",
              "  <div id=\"df-274dfc62-dd19-4d68-91ca-41c84bc5ee2c\" class=\"colab-df-container\">\n",
              "    <div>\n",
              "<style scoped>\n",
              "    .dataframe tbody tr th:only-of-type {\n",
              "        vertical-align: middle;\n",
              "    }\n",
              "\n",
              "    .dataframe tbody tr th {\n",
              "        vertical-align: top;\n",
              "    }\n",
              "\n",
              "    .dataframe thead th {\n",
              "        text-align: right;\n",
              "    }\n",
              "</style>\n",
              "<table border=\"1\" class=\"dataframe\">\n",
              "  <thead>\n",
              "    <tr style=\"text-align: right;\">\n",
              "      <th></th>\n",
              "      <th>User ID</th>\n",
              "      <th>Gender</th>\n",
              "      <th>Age</th>\n",
              "      <th>EstimatedSalary</th>\n",
              "      <th>Purchased</th>\n",
              "    </tr>\n",
              "  </thead>\n",
              "  <tbody>\n",
              "    <tr>\n",
              "      <th>0</th>\n",
              "      <td>15624510</td>\n",
              "      <td>Male</td>\n",
              "      <td>19</td>\n",
              "      <td>19000</td>\n",
              "      <td>0</td>\n",
              "    </tr>\n",
              "    <tr>\n",
              "      <th>1</th>\n",
              "      <td>15810944</td>\n",
              "      <td>Male</td>\n",
              "      <td>35</td>\n",
              "      <td>20000</td>\n",
              "      <td>0</td>\n",
              "    </tr>\n",
              "    <tr>\n",
              "      <th>2</th>\n",
              "      <td>15668575</td>\n",
              "      <td>Female</td>\n",
              "      <td>26</td>\n",
              "      <td>43000</td>\n",
              "      <td>0</td>\n",
              "    </tr>\n",
              "    <tr>\n",
              "      <th>3</th>\n",
              "      <td>15603246</td>\n",
              "      <td>Female</td>\n",
              "      <td>27</td>\n",
              "      <td>57000</td>\n",
              "      <td>0</td>\n",
              "    </tr>\n",
              "    <tr>\n",
              "      <th>4</th>\n",
              "      <td>15804002</td>\n",
              "      <td>Male</td>\n",
              "      <td>19</td>\n",
              "      <td>76000</td>\n",
              "      <td>0</td>\n",
              "    </tr>\n",
              "  </tbody>\n",
              "</table>\n",
              "</div>\n",
              "    <div class=\"colab-df-buttons\">\n",
              "\n",
              "  <div class=\"colab-df-container\">\n",
              "    <button class=\"colab-df-convert\" onclick=\"convertToInteractive('df-274dfc62-dd19-4d68-91ca-41c84bc5ee2c')\"\n",
              "            title=\"Convert this dataframe to an interactive table.\"\n",
              "            style=\"display:none;\">\n",
              "\n",
              "  <svg xmlns=\"http://www.w3.org/2000/svg\" height=\"24px\" viewBox=\"0 -960 960 960\">\n",
              "    <path d=\"M120-120v-720h720v720H120Zm60-500h600v-160H180v160Zm220 220h160v-160H400v160Zm0 220h160v-160H400v160ZM180-400h160v-160H180v160Zm440 0h160v-160H620v160ZM180-180h160v-160H180v160Zm440 0h160v-160H620v160Z\"/>\n",
              "  </svg>\n",
              "    </button>\n",
              "\n",
              "  <style>\n",
              "    .colab-df-container {\n",
              "      display:flex;\n",
              "      gap: 12px;\n",
              "    }\n",
              "\n",
              "    .colab-df-convert {\n",
              "      background-color: #E8F0FE;\n",
              "      border: none;\n",
              "      border-radius: 50%;\n",
              "      cursor: pointer;\n",
              "      display: none;\n",
              "      fill: #1967D2;\n",
              "      height: 32px;\n",
              "      padding: 0 0 0 0;\n",
              "      width: 32px;\n",
              "    }\n",
              "\n",
              "    .colab-df-convert:hover {\n",
              "      background-color: #E2EBFA;\n",
              "      box-shadow: 0px 1px 2px rgba(60, 64, 67, 0.3), 0px 1px 3px 1px rgba(60, 64, 67, 0.15);\n",
              "      fill: #174EA6;\n",
              "    }\n",
              "\n",
              "    .colab-df-buttons div {\n",
              "      margin-bottom: 4px;\n",
              "    }\n",
              "\n",
              "    [theme=dark] .colab-df-convert {\n",
              "      background-color: #3B4455;\n",
              "      fill: #D2E3FC;\n",
              "    }\n",
              "\n",
              "    [theme=dark] .colab-df-convert:hover {\n",
              "      background-color: #434B5C;\n",
              "      box-shadow: 0px 1px 3px 1px rgba(0, 0, 0, 0.15);\n",
              "      filter: drop-shadow(0px 1px 2px rgba(0, 0, 0, 0.3));\n",
              "      fill: #FFFFFF;\n",
              "    }\n",
              "  </style>\n",
              "\n",
              "    <script>\n",
              "      const buttonEl =\n",
              "        document.querySelector('#df-274dfc62-dd19-4d68-91ca-41c84bc5ee2c button.colab-df-convert');\n",
              "      buttonEl.style.display =\n",
              "        google.colab.kernel.accessAllowed ? 'block' : 'none';\n",
              "\n",
              "      async function convertToInteractive(key) {\n",
              "        const element = document.querySelector('#df-274dfc62-dd19-4d68-91ca-41c84bc5ee2c');\n",
              "        const dataTable =\n",
              "          await google.colab.kernel.invokeFunction('convertToInteractive',\n",
              "                                                    [key], {});\n",
              "        if (!dataTable) return;\n",
              "\n",
              "        const docLinkHtml = 'Like what you see? Visit the ' +\n",
              "          '<a target=\"_blank\" href=https://colab.research.google.com/notebooks/data_table.ipynb>data table notebook</a>'\n",
              "          + ' to learn more about interactive tables.';\n",
              "        element.innerHTML = '';\n",
              "        dataTable['output_type'] = 'display_data';\n",
              "        await google.colab.output.renderOutput(dataTable, element);\n",
              "        const docLink = document.createElement('div');\n",
              "        docLink.innerHTML = docLinkHtml;\n",
              "        element.appendChild(docLink);\n",
              "      }\n",
              "    </script>\n",
              "  </div>\n",
              "\n",
              "\n",
              "<div id=\"df-22fe8f57-19fd-4d3d-a7ed-379fe43688f2\">\n",
              "  <button class=\"colab-df-quickchart\" onclick=\"quickchart('df-22fe8f57-19fd-4d3d-a7ed-379fe43688f2')\"\n",
              "            title=\"Suggest charts\"\n",
              "            style=\"display:none;\">\n",
              "\n",
              "<svg xmlns=\"http://www.w3.org/2000/svg\" height=\"24px\"viewBox=\"0 0 24 24\"\n",
              "     width=\"24px\">\n",
              "    <g>\n",
              "        <path d=\"M19 3H5c-1.1 0-2 .9-2 2v14c0 1.1.9 2 2 2h14c1.1 0 2-.9 2-2V5c0-1.1-.9-2-2-2zM9 17H7v-7h2v7zm4 0h-2V7h2v10zm4 0h-2v-4h2v4z\"/>\n",
              "    </g>\n",
              "</svg>\n",
              "  </button>\n",
              "\n",
              "<style>\n",
              "  .colab-df-quickchart {\n",
              "      --bg-color: #E8F0FE;\n",
              "      --fill-color: #1967D2;\n",
              "      --hover-bg-color: #E2EBFA;\n",
              "      --hover-fill-color: #174EA6;\n",
              "      --disabled-fill-color: #AAA;\n",
              "      --disabled-bg-color: #DDD;\n",
              "  }\n",
              "\n",
              "  [theme=dark] .colab-df-quickchart {\n",
              "      --bg-color: #3B4455;\n",
              "      --fill-color: #D2E3FC;\n",
              "      --hover-bg-color: #434B5C;\n",
              "      --hover-fill-color: #FFFFFF;\n",
              "      --disabled-bg-color: #3B4455;\n",
              "      --disabled-fill-color: #666;\n",
              "  }\n",
              "\n",
              "  .colab-df-quickchart {\n",
              "    background-color: var(--bg-color);\n",
              "    border: none;\n",
              "    border-radius: 50%;\n",
              "    cursor: pointer;\n",
              "    display: none;\n",
              "    fill: var(--fill-color);\n",
              "    height: 32px;\n",
              "    padding: 0;\n",
              "    width: 32px;\n",
              "  }\n",
              "\n",
              "  .colab-df-quickchart:hover {\n",
              "    background-color: var(--hover-bg-color);\n",
              "    box-shadow: 0 1px 2px rgba(60, 64, 67, 0.3), 0 1px 3px 1px rgba(60, 64, 67, 0.15);\n",
              "    fill: var(--button-hover-fill-color);\n",
              "  }\n",
              "\n",
              "  .colab-df-quickchart-complete:disabled,\n",
              "  .colab-df-quickchart-complete:disabled:hover {\n",
              "    background-color: var(--disabled-bg-color);\n",
              "    fill: var(--disabled-fill-color);\n",
              "    box-shadow: none;\n",
              "  }\n",
              "\n",
              "  .colab-df-spinner {\n",
              "    border: 2px solid var(--fill-color);\n",
              "    border-color: transparent;\n",
              "    border-bottom-color: var(--fill-color);\n",
              "    animation:\n",
              "      spin 1s steps(1) infinite;\n",
              "  }\n",
              "\n",
              "  @keyframes spin {\n",
              "    0% {\n",
              "      border-color: transparent;\n",
              "      border-bottom-color: var(--fill-color);\n",
              "      border-left-color: var(--fill-color);\n",
              "    }\n",
              "    20% {\n",
              "      border-color: transparent;\n",
              "      border-left-color: var(--fill-color);\n",
              "      border-top-color: var(--fill-color);\n",
              "    }\n",
              "    30% {\n",
              "      border-color: transparent;\n",
              "      border-left-color: var(--fill-color);\n",
              "      border-top-color: var(--fill-color);\n",
              "      border-right-color: var(--fill-color);\n",
              "    }\n",
              "    40% {\n",
              "      border-color: transparent;\n",
              "      border-right-color: var(--fill-color);\n",
              "      border-top-color: var(--fill-color);\n",
              "    }\n",
              "    60% {\n",
              "      border-color: transparent;\n",
              "      border-right-color: var(--fill-color);\n",
              "    }\n",
              "    80% {\n",
              "      border-color: transparent;\n",
              "      border-right-color: var(--fill-color);\n",
              "      border-bottom-color: var(--fill-color);\n",
              "    }\n",
              "    90% {\n",
              "      border-color: transparent;\n",
              "      border-bottom-color: var(--fill-color);\n",
              "    }\n",
              "  }\n",
              "</style>\n",
              "\n",
              "  <script>\n",
              "    async function quickchart(key) {\n",
              "      const quickchartButtonEl =\n",
              "        document.querySelector('#' + key + ' button');\n",
              "      quickchartButtonEl.disabled = true;  // To prevent multiple clicks.\n",
              "      quickchartButtonEl.classList.add('colab-df-spinner');\n",
              "      try {\n",
              "        const charts = await google.colab.kernel.invokeFunction(\n",
              "            'suggestCharts', [key], {});\n",
              "      } catch (error) {\n",
              "        console.error('Error during call to suggestCharts:', error);\n",
              "      }\n",
              "      quickchartButtonEl.classList.remove('colab-df-spinner');\n",
              "      quickchartButtonEl.classList.add('colab-df-quickchart-complete');\n",
              "    }\n",
              "    (() => {\n",
              "      let quickchartButtonEl =\n",
              "        document.querySelector('#df-22fe8f57-19fd-4d3d-a7ed-379fe43688f2 button');\n",
              "      quickchartButtonEl.style.display =\n",
              "        google.colab.kernel.accessAllowed ? 'block' : 'none';\n",
              "    })();\n",
              "  </script>\n",
              "</div>\n",
              "    </div>\n",
              "  </div>\n"
            ],
            "text/plain": [
              "    User ID  Gender  Age  EstimatedSalary  Purchased\n",
              "0  15624510    Male   19            19000          0\n",
              "1  15810944    Male   35            20000          0\n",
              "2  15668575  Female   26            43000          0\n",
              "3  15603246  Female   27            57000          0\n",
              "4  15804002    Male   19            76000          0"
            ]
          },
          "execution_count": 71,
          "metadata": {},
          "output_type": "execute_result"
        }
      ],
      "source": [
        "data.head()"
      ]
    },
    {
      "cell_type": "code",
      "execution_count": 72,
      "metadata": {
        "colab": {
          "base_uri": "https://localhost:8080/"
        },
        "id": "Jfyk0tSl4QnJ",
        "outputId": "15419e5c-bc82-486a-c92e-97bbcebdafb9"
      },
      "outputs": [
        {
          "name": "stdout",
          "output_type": "stream",
          "text": [
            "<class 'pandas.core.frame.DataFrame'>\n",
            "RangeIndex: 400 entries, 0 to 399\n",
            "Data columns (total 5 columns):\n",
            " #   Column           Non-Null Count  Dtype \n",
            "---  ------           --------------  ----- \n",
            " 0   User ID          400 non-null    int64 \n",
            " 1   Gender           400 non-null    object\n",
            " 2   Age              400 non-null    int64 \n",
            " 3   EstimatedSalary  400 non-null    int64 \n",
            " 4   Purchased        400 non-null    int64 \n",
            "dtypes: int64(4), object(1)\n",
            "memory usage: 15.8+ KB\n"
          ]
        }
      ],
      "source": [
        "data.info()"
      ]
    },
    {
      "cell_type": "code",
      "execution_count": 73,
      "metadata": {
        "id": "UdVQUfoX4WoI"
      },
      "outputs": [],
      "source": [
        "data= data.dropna()"
      ]
    },
    {
      "cell_type": "code",
      "execution_count": 74,
      "metadata": {
        "id": "yGQSTdBY4eLG"
      },
      "outputs": [],
      "source": [
        "features = ['User ID', 'Age', 'EstimatedSalary', 'Purchased']"
      ]
    },
    {
      "cell_type": "code",
      "execution_count": 75,
      "metadata": {
        "id": "JCDlXSzU4sCc"
      },
      "outputs": [],
      "source": [
        "target = 'EstimatedSalary'"
      ]
    },
    {
      "cell_type": "code",
      "execution_count": 76,
      "metadata": {
        "id": "WBeUFl_J40CQ"
      },
      "outputs": [],
      "source": [
        "X = data[features]\n",
        "y = data[target]"
      ]
    },
    {
      "cell_type": "code",
      "execution_count": 77,
      "metadata": {
        "id": "L2ERuYzZ42Sv"
      },
      "outputs": [],
      "source": [
        "X_train, X_test, y_train, y_test = train_test_split(X, y, test_size=0.2, random_state=42)"
      ]
    },
    {
      "cell_type": "code",
      "execution_count": 78,
      "metadata": {
        "id": "FQlxc49X44rj"
      },
      "outputs": [],
      "source": [
        "model = Sequential()\n",
        "model.add(Dense(64, input_dim=len(features), activation='relu'))\n",
        "model.add(Dense(32, activation='relu'))\n",
        "model.add(Dense(1, activation='linear'))"
      ]
    },
    {
      "cell_type": "code",
      "execution_count": 79,
      "metadata": {
        "id": "jcdm6iA647ND"
      },
      "outputs": [],
      "source": [
        "model.compile(optimizer='adam', loss='mean_squared_error')"
      ]
    },
    {
      "cell_type": "code",
      "execution_count": 80,
      "metadata": {
        "colab": {
          "base_uri": "https://localhost:8080/"
        },
        "id": "0ILgryJ549Nm",
        "outputId": "12801fdd-4b78-44fe-9709-d61768a472d7"
      },
      "outputs": [
        {
          "name": "stdout",
          "output_type": "stream",
          "text": [
            "Epoch 1/100\n",
            "10/10 [==============================] - 1s 18ms/step - loss: 198574702592.0000 - val_loss: 131459055616.0000\n",
            "Epoch 2/100\n",
            "10/10 [==============================] - 0s 5ms/step - loss: 41419677696.0000 - val_loss: 44735733760.0000\n",
            "Epoch 3/100\n",
            "10/10 [==============================] - 0s 7ms/step - loss: 18833973248.0000 - val_loss: 10319874048.0000\n",
            "Epoch 4/100\n",
            "10/10 [==============================] - 0s 6ms/step - loss: 8358441984.0000 - val_loss: 3174636800.0000\n",
            "Epoch 5/100\n",
            "10/10 [==============================] - 0s 7ms/step - loss: 3495198720.0000 - val_loss: 1320017152.0000\n",
            "Epoch 6/100\n",
            "10/10 [==============================] - 0s 7ms/step - loss: 1925933056.0000 - val_loss: 1208441600.0000\n",
            "Epoch 7/100\n",
            "10/10 [==============================] - 0s 5ms/step - loss: 1337412992.0000 - val_loss: 1044424832.0000\n",
            "Epoch 8/100\n",
            "10/10 [==============================] - 0s 5ms/step - loss: 1185616512.0000 - val_loss: 1092343808.0000\n",
            "Epoch 9/100\n",
            "10/10 [==============================] - 0s 6ms/step - loss: 1182923136.0000 - val_loss: 1037275776.0000\n",
            "Epoch 10/100\n",
            "10/10 [==============================] - 0s 5ms/step - loss: 1152393472.0000 - val_loss: 1025130112.0000\n",
            "Epoch 11/100\n",
            "10/10 [==============================] - 0s 7ms/step - loss: 1140489472.0000 - val_loss: 1040518144.0000\n",
            "Epoch 12/100\n",
            "10/10 [==============================] - 0s 7ms/step - loss: 1141674368.0000 - val_loss: 1027591360.0000\n",
            "Epoch 13/100\n",
            "10/10 [==============================] - 0s 7ms/step - loss: 1135458048.0000 - val_loss: 1007301248.0000\n",
            "Epoch 14/100\n",
            "10/10 [==============================] - 0s 6ms/step - loss: 1159391872.0000 - val_loss: 1037793920.0000\n",
            "Epoch 15/100\n",
            "10/10 [==============================] - 0s 7ms/step - loss: 1127652608.0000 - val_loss: 1005142656.0000\n",
            "Epoch 16/100\n",
            "10/10 [==============================] - 0s 5ms/step - loss: 1129771776.0000 - val_loss: 983195264.0000\n",
            "Epoch 17/100\n",
            "10/10 [==============================] - 0s 5ms/step - loss: 1099240192.0000 - val_loss: 982759232.0000\n",
            "Epoch 18/100\n",
            "10/10 [==============================] - 0s 7ms/step - loss: 1121669632.0000 - val_loss: 1080016768.0000\n",
            "Epoch 19/100\n",
            "10/10 [==============================] - 0s 5ms/step - loss: 1077161600.0000 - val_loss: 976093504.0000\n",
            "Epoch 20/100\n",
            "10/10 [==============================] - 0s 5ms/step - loss: 1087682816.0000 - val_loss: 948052672.0000\n",
            "Epoch 21/100\n",
            "10/10 [==============================] - 0s 7ms/step - loss: 1071677120.0000 - val_loss: 966817600.0000\n",
            "Epoch 22/100\n",
            "10/10 [==============================] - 0s 7ms/step - loss: 1047121024.0000 - val_loss: 944447872.0000\n",
            "Epoch 23/100\n",
            "10/10 [==============================] - 0s 7ms/step - loss: 1040125568.0000 - val_loss: 934277952.0000\n",
            "Epoch 24/100\n",
            "10/10 [==============================] - 0s 7ms/step - loss: 1083813120.0000 - val_loss: 933072896.0000\n",
            "Epoch 25/100\n",
            "10/10 [==============================] - 0s 6ms/step - loss: 1012780736.0000 - val_loss: 901772672.0000\n",
            "Epoch 26/100\n",
            "10/10 [==============================] - 0s 7ms/step - loss: 1016936128.0000 - val_loss: 894526464.0000\n",
            "Epoch 27/100\n",
            "10/10 [==============================] - 0s 7ms/step - loss: 1036894400.0000 - val_loss: 950161408.0000\n",
            "Epoch 28/100\n",
            "10/10 [==============================] - 0s 6ms/step - loss: 1063662208.0000 - val_loss: 1061357376.0000\n",
            "Epoch 29/100\n",
            "10/10 [==============================] - 0s 7ms/step - loss: 1027234816.0000 - val_loss: 929805120.0000\n",
            "Epoch 30/100\n",
            "10/10 [==============================] - 0s 7ms/step - loss: 1034855744.0000 - val_loss: 859387776.0000\n",
            "Epoch 31/100\n",
            "10/10 [==============================] - 0s 7ms/step - loss: 983932288.0000 - val_loss: 970977920.0000\n",
            "Epoch 32/100\n",
            "10/10 [==============================] - 0s 5ms/step - loss: 1038178688.0000 - val_loss: 853223872.0000\n",
            "Epoch 33/100\n",
            "10/10 [==============================] - 0s 7ms/step - loss: 952615808.0000 - val_loss: 889082048.0000\n",
            "Epoch 34/100\n",
            "10/10 [==============================] - 0s 5ms/step - loss: 933654208.0000 - val_loss: 815924864.0000\n",
            "Epoch 35/100\n",
            "10/10 [==============================] - 0s 7ms/step - loss: 905306944.0000 - val_loss: 825018304.0000\n",
            "Epoch 36/100\n",
            "10/10 [==============================] - 0s 6ms/step - loss: 895510016.0000 - val_loss: 829106368.0000\n",
            "Epoch 37/100\n",
            "10/10 [==============================] - 0s 5ms/step - loss: 900663168.0000 - val_loss: 884177920.0000\n",
            "Epoch 38/100\n",
            "10/10 [==============================] - 0s 5ms/step - loss: 894128960.0000 - val_loss: 772136960.0000\n",
            "Epoch 39/100\n",
            "10/10 [==============================] - 0s 5ms/step - loss: 890410368.0000 - val_loss: 768915200.0000\n",
            "Epoch 40/100\n",
            "10/10 [==============================] - 0s 6ms/step - loss: 849265472.0000 - val_loss: 754660992.0000\n",
            "Epoch 41/100\n",
            "10/10 [==============================] - 0s 5ms/step - loss: 842348288.0000 - val_loss: 792094848.0000\n",
            "Epoch 42/100\n",
            "10/10 [==============================] - 0s 5ms/step - loss: 843798400.0000 - val_loss: 810285184.0000\n",
            "Epoch 43/100\n",
            "10/10 [==============================] - 0s 6ms/step - loss: 864024768.0000 - val_loss: 735174528.0000\n",
            "Epoch 44/100\n",
            "10/10 [==============================] - 0s 5ms/step - loss: 819040256.0000 - val_loss: 713393856.0000\n",
            "Epoch 45/100\n",
            "10/10 [==============================] - 0s 5ms/step - loss: 811905344.0000 - val_loss: 703965696.0000\n",
            "Epoch 46/100\n",
            "10/10 [==============================] - 0s 6ms/step - loss: 801422400.0000 - val_loss: 707864128.0000\n",
            "Epoch 47/100\n",
            "10/10 [==============================] - 0s 5ms/step - loss: 769862848.0000 - val_loss: 677960064.0000\n",
            "Epoch 48/100\n",
            "10/10 [==============================] - 0s 7ms/step - loss: 784232000.0000 - val_loss: 667896128.0000\n",
            "Epoch 49/100\n",
            "10/10 [==============================] - 0s 5ms/step - loss: 760910528.0000 - val_loss: 659048768.0000\n",
            "Epoch 50/100\n",
            "10/10 [==============================] - 0s 6ms/step - loss: 747773824.0000 - val_loss: 657286848.0000\n",
            "Epoch 51/100\n",
            "10/10 [==============================] - 0s 7ms/step - loss: 812110720.0000 - val_loss: 667084160.0000\n",
            "Epoch 52/100\n",
            "10/10 [==============================] - 0s 5ms/step - loss: 793138304.0000 - val_loss: 632577920.0000\n",
            "Epoch 53/100\n",
            "10/10 [==============================] - 0s 8ms/step - loss: 707441024.0000 - val_loss: 627603584.0000\n",
            "Epoch 54/100\n",
            "10/10 [==============================] - 0s 5ms/step - loss: 683297920.0000 - val_loss: 621575360.0000\n",
            "Epoch 55/100\n",
            "10/10 [==============================] - 0s 5ms/step - loss: 671145216.0000 - val_loss: 614634048.0000\n",
            "Epoch 56/100\n",
            "10/10 [==============================] - 0s 6ms/step - loss: 680375552.0000 - val_loss: 584738432.0000\n",
            "Epoch 57/100\n",
            "10/10 [==============================] - 0s 7ms/step - loss: 661544448.0000 - val_loss: 583217856.0000\n",
            "Epoch 58/100\n",
            "10/10 [==============================] - 0s 8ms/step - loss: 694745216.0000 - val_loss: 564127552.0000\n",
            "Epoch 59/100\n",
            "10/10 [==============================] - 0s 9ms/step - loss: 667204608.0000 - val_loss: 577097152.0000\n",
            "Epoch 60/100\n",
            "10/10 [==============================] - 0s 9ms/step - loss: 712805504.0000 - val_loss: 557214592.0000\n",
            "Epoch 61/100\n",
            "10/10 [==============================] - 0s 8ms/step - loss: 647420800.0000 - val_loss: 538375808.0000\n",
            "Epoch 62/100\n",
            "10/10 [==============================] - 0s 9ms/step - loss: 600692352.0000 - val_loss: 526603680.0000\n",
            "Epoch 63/100\n",
            "10/10 [==============================] - 0s 8ms/step - loss: 585881408.0000 - val_loss: 617720448.0000\n",
            "Epoch 64/100\n",
            "10/10 [==============================] - 0s 7ms/step - loss: 619314048.0000 - val_loss: 657994624.0000\n",
            "Epoch 65/100\n",
            "10/10 [==============================] - 0s 7ms/step - loss: 644396480.0000 - val_loss: 563948608.0000\n",
            "Epoch 66/100\n",
            "10/10 [==============================] - 0s 8ms/step - loss: 674822592.0000 - val_loss: 515793088.0000\n",
            "Epoch 67/100\n",
            "10/10 [==============================] - 0s 9ms/step - loss: 561789696.0000 - val_loss: 479055104.0000\n",
            "Epoch 68/100\n",
            "10/10 [==============================] - 0s 8ms/step - loss: 541815424.0000 - val_loss: 523959200.0000\n",
            "Epoch 69/100\n",
            "10/10 [==============================] - 0s 9ms/step - loss: 528980160.0000 - val_loss: 456522816.0000\n",
            "Epoch 70/100\n",
            "10/10 [==============================] - 0s 7ms/step - loss: 506649280.0000 - val_loss: 449732864.0000\n",
            "Epoch 71/100\n",
            "10/10 [==============================] - 0s 7ms/step - loss: 525903008.0000 - val_loss: 438002784.0000\n",
            "Epoch 72/100\n",
            "10/10 [==============================] - 0s 9ms/step - loss: 490559392.0000 - val_loss: 443075072.0000\n",
            "Epoch 73/100\n",
            "10/10 [==============================] - 0s 8ms/step - loss: 484174656.0000 - val_loss: 448053152.0000\n",
            "Epoch 74/100\n",
            "10/10 [==============================] - 0s 9ms/step - loss: 465338048.0000 - val_loss: 424453472.0000\n",
            "Epoch 75/100\n",
            "10/10 [==============================] - 0s 9ms/step - loss: 471229280.0000 - val_loss: 485514240.0000\n",
            "Epoch 76/100\n",
            "10/10 [==============================] - 0s 9ms/step - loss: 461405600.0000 - val_loss: 467841344.0000\n",
            "Epoch 77/100\n",
            "10/10 [==============================] - 0s 9ms/step - loss: 516138080.0000 - val_loss: 446363552.0000\n",
            "Epoch 78/100\n",
            "10/10 [==============================] - 0s 9ms/step - loss: 463165760.0000 - val_loss: 376647232.0000\n",
            "Epoch 79/100\n",
            "10/10 [==============================] - 0s 10ms/step - loss: 436943936.0000 - val_loss: 454029408.0000\n",
            "Epoch 80/100\n",
            "10/10 [==============================] - 0s 9ms/step - loss: 464080832.0000 - val_loss: 376942912.0000\n",
            "Epoch 81/100\n",
            "10/10 [==============================] - 0s 7ms/step - loss: 426893152.0000 - val_loss: 358846368.0000\n",
            "Epoch 82/100\n",
            "10/10 [==============================] - 0s 7ms/step - loss: 407433280.0000 - val_loss: 367524352.0000\n",
            "Epoch 83/100\n",
            "10/10 [==============================] - 0s 8ms/step - loss: 378243808.0000 - val_loss: 351096704.0000\n",
            "Epoch 84/100\n",
            "10/10 [==============================] - 0s 7ms/step - loss: 381559776.0000 - val_loss: 325677248.0000\n",
            "Epoch 85/100\n",
            "10/10 [==============================] - 0s 9ms/step - loss: 369105408.0000 - val_loss: 324206880.0000\n",
            "Epoch 86/100\n",
            "10/10 [==============================] - 0s 8ms/step - loss: 355392288.0000 - val_loss: 332586912.0000\n",
            "Epoch 87/100\n",
            "10/10 [==============================] - 0s 8ms/step - loss: 345109248.0000 - val_loss: 304032032.0000\n",
            "Epoch 88/100\n",
            "10/10 [==============================] - 0s 8ms/step - loss: 336180128.0000 - val_loss: 311318080.0000\n",
            "Epoch 89/100\n",
            "10/10 [==============================] - 0s 9ms/step - loss: 337296576.0000 - val_loss: 304470976.0000\n",
            "Epoch 90/100\n",
            "10/10 [==============================] - 0s 7ms/step - loss: 328922048.0000 - val_loss: 290930496.0000\n",
            "Epoch 91/100\n",
            "10/10 [==============================] - 0s 8ms/step - loss: 328766400.0000 - val_loss: 278209216.0000\n",
            "Epoch 92/100\n",
            "10/10 [==============================] - 0s 9ms/step - loss: 310350784.0000 - val_loss: 266348128.0000\n",
            "Epoch 93/100\n",
            "10/10 [==============================] - 0s 7ms/step - loss: 296080960.0000 - val_loss: 261415456.0000\n",
            "Epoch 94/100\n",
            "10/10 [==============================] - 0s 7ms/step - loss: 295582528.0000 - val_loss: 288605376.0000\n",
            "Epoch 95/100\n",
            "10/10 [==============================] - 0s 8ms/step - loss: 291433568.0000 - val_loss: 244600800.0000\n",
            "Epoch 96/100\n",
            "10/10 [==============================] - 0s 7ms/step - loss: 280466560.0000 - val_loss: 239532672.0000\n",
            "Epoch 97/100\n",
            "10/10 [==============================] - 0s 7ms/step - loss: 279461184.0000 - val_loss: 240523680.0000\n",
            "Epoch 98/100\n",
            "10/10 [==============================] - 0s 7ms/step - loss: 265492256.0000 - val_loss: 264466816.0000\n",
            "Epoch 99/100\n",
            "10/10 [==============================] - 0s 8ms/step - loss: 262303440.0000 - val_loss: 259117264.0000\n",
            "Epoch 100/100\n",
            "10/10 [==============================] - 0s 9ms/step - loss: 255319472.0000 - val_loss: 213868656.0000\n"
          ]
        },
        {
          "data": {
            "text/plain": [
              "<keras.src.callbacks.History at 0x7dc80dfa0910>"
            ]
          },
          "execution_count": 80,
          "metadata": {},
          "output_type": "execute_result"
        }
      ],
      "source": [
        "model.fit(X_train, y_train, epochs=100, batch_size=32, validation_data=(X_test, y_test))"
      ]
    },
    {
      "cell_type": "code",
      "execution_count": 84,
      "metadata": {
        "colab": {
          "base_uri": "https://localhost:8080/"
        },
        "id": "eG_SKR146tBK",
        "outputId": "43716101-7abc-4d1d-d498-75d770f286f1"
      },
      "outputs": [
        {
          "name": "stdout",
          "output_type": "stream",
          "text": [
            "1/1 [==============================] - 0s 20ms/step\n",
            "Predicted EstimatedSalary: 17.867420196533203\n"
          ]
        },
        {
          "name": "stderr",
          "output_type": "stream",
          "text": [
            "/usr/local/lib/python3.10/dist-packages/sklearn/base.py:439: UserWarning: X does not have valid feature names, but StandardScaler was fitted with feature names\n",
            "  warnings.warn(\n"
          ]
        }
      ],
      "source": [
        "new_data = np.array([[-0.5, 0.0, 1010.0, 1.5]])\n",
        "\n",
        "# Membuat objek scaler baru\n",
        "new_scaler = StandardScaler()\n",
        "\n",
        "# Melatih scaler baru dengan data pelatihan\n",
        "new_scaler.fit(X_train)\n",
        "\n",
        "# Normalisasi data baru\n",
        "scaled_new_data = new_scaler.transform(new_data)\n",
        "\n",
        "# Prediksi menggunakan model\n",
        "prediction = model.predict(scaled_new_data)\n",
        "print(f'Predicted EstimatedSalary: {prediction[0][0]}')"
      ]
    }
  ],
  "metadata": {
    "colab": {
      "provenance": []
    },
    "kernelspec": {
      "display_name": "Python 3",
      "name": "python3"
    },
    "language_info": {
      "name": "python"
    }
  },
  "nbformat": 4,
  "nbformat_minor": 0
}
