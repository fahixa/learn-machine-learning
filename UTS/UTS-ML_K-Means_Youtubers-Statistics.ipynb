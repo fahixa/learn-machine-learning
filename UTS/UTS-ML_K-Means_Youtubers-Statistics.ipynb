{
  "nbformat": 4,
  "nbformat_minor": 0,
  "metadata": {
    "colab": {
      "provenance": [],
      "gpuType": "T4"
    },
    "kernelspec": {
      "name": "python3",
      "display_name": "Python 3"
    },
    "language_info": {
      "name": "python"
    },
    "accelerator": "GPU"
  },
  "cells": [
    {
      "cell_type": "markdown",
      "source": [
        "# UTS Machine Learning_K-Means_Clustering_Youtubers Statistics\n",
        "---\n",
        "\n",
        "\n",
        "Nama : Fakhrity Hikmawan<br>\n",
        "NIM : 1103204074<br>\n",
        "Kelas : TK-44-G4<br>\n",
        "\n",
        "\n",
        "---\n",
        "\n",
        "\n",
        "Dataset: [Top 1000 Youtubers statistics](https://www.kaggle.com/datasets/computingvictor/top1000youtubers)<br>\n",
        "Model: K-Means Clustering\n",
        "\n",
        "\n",
        "---\n",
        "\n"
      ],
      "metadata": {
        "id": "tvhFiKruih5A"
      }
    },
    {
      "cell_type": "markdown",
      "source": [
        "\n",
        "\n",
        "```\n",
        "# Prompt: Beri kode untuk menghubungkan folder didalam Google Collab dengan Google Drive\n",
        "```\n",
        "\n"
      ],
      "metadata": {
        "id": "oa1g3PrsozAA"
      }
    },
    {
      "cell_type": "code",
      "execution_count": 1,
      "metadata": {
        "id": "g4JktzZeeCdF",
        "colab": {
          "base_uri": "https://localhost:8080/"
        },
        "outputId": "a5ae1b1d-b2fe-40a1-a890-7d6e433e51b8"
      },
      "outputs": [
        {
          "output_type": "stream",
          "name": "stdout",
          "text": [
            "Mounted at /content/drive\n"
          ]
        }
      ],
      "source": [
        "# Mengimpor modul drive dari pustaka Google Colab\n",
        "from google.colab import drive\n",
        "\n",
        "# Menghubungkan Google Colab dengan Google Drive\n",
        "drive.mount('/content/drive')"
      ]
    },
    {
      "cell_type": "markdown",
      "source": [
        "\n",
        "\n",
        "```\n",
        "# Prompt: Beri kode untuk membaca dataset dan mengubah dataset sebagai dataframe\n",
        "```\n",
        "\n"
      ],
      "metadata": {
        "id": "y1wkZJ5A0k21"
      }
    },
    {
      "cell_type": "code",
      "source": [
        "# Mengimpor library pandas dan memberikan alias sebagai pd\n",
        "import pandas as pd\n",
        "\n",
        "# Membaca file CSV dari Google Drive dan menyimpannya ke dalam variabel 'df'\n",
        "df = pd.read_csv('/content/drive/MyDrive/DATASET/youtubers_df.csv')\n",
        "\n",
        "# Menampilkan beberapa baris pertama dari DataFrame untuk memeriksa\n",
        "df.head()"
      ],
      "metadata": {
        "colab": {
          "base_uri": "https://localhost:8080/",
          "height": 206
        },
        "id": "JBzjANsa1UYD",
        "outputId": "34791334-ad8f-4c2f-e48d-a3cb426a6554"
      },
      "execution_count": 2,
      "outputs": [
        {
          "output_type": "execute_result",
          "data": {
            "text/plain": [
              "   Rank       Username           Categories   Suscribers         Country  \\\n",
              "0     1        tseries       Música y baile  249500000.0           India   \n",
              "1     2        MrBeast   Videojuegos, Humor  183500000.0  Estados Unidos   \n",
              "2     3      CoComelon            Educación  165500000.0         Unknown   \n",
              "3     4       SETIndia                  NaN  162600000.0           India   \n",
              "4     5  KidsDianaShow  Animación, Juguetes  113500000.0         Unknown   \n",
              "\n",
              "        Visits      Likes  Comments  \\\n",
              "0      86200.0     2700.0      78.0   \n",
              "1  117400000.0  5300000.0   18500.0   \n",
              "2    7000000.0    24700.0       0.0   \n",
              "3      15600.0      166.0       9.0   \n",
              "4    3900000.0    12400.0       0.0   \n",
              "\n",
              "                                               Links  \n",
              "0  http://youtube.com/channel/UCq-Fj5jknLsUf-MWSy...  \n",
              "1  http://youtube.com/channel/UCX6OQ3DkcsbYNE6H8u...  \n",
              "2  http://youtube.com/channel/UCbCmjCuTUZos6Inko4...  \n",
              "3  http://youtube.com/channel/UCpEhnqL0y41EpW2TvW...  \n",
              "4  http://youtube.com/channel/UCk8GzjMOrta8yxDcKf...  "
            ],
            "text/html": [
              "\n",
              "  <div id=\"df-251d12e5-5245-4c2e-80c6-4776e115ad9d\" class=\"colab-df-container\">\n",
              "    <div>\n",
              "<style scoped>\n",
              "    .dataframe tbody tr th:only-of-type {\n",
              "        vertical-align: middle;\n",
              "    }\n",
              "\n",
              "    .dataframe tbody tr th {\n",
              "        vertical-align: top;\n",
              "    }\n",
              "\n",
              "    .dataframe thead th {\n",
              "        text-align: right;\n",
              "    }\n",
              "</style>\n",
              "<table border=\"1\" class=\"dataframe\">\n",
              "  <thead>\n",
              "    <tr style=\"text-align: right;\">\n",
              "      <th></th>\n",
              "      <th>Rank</th>\n",
              "      <th>Username</th>\n",
              "      <th>Categories</th>\n",
              "      <th>Suscribers</th>\n",
              "      <th>Country</th>\n",
              "      <th>Visits</th>\n",
              "      <th>Likes</th>\n",
              "      <th>Comments</th>\n",
              "      <th>Links</th>\n",
              "    </tr>\n",
              "  </thead>\n",
              "  <tbody>\n",
              "    <tr>\n",
              "      <th>0</th>\n",
              "      <td>1</td>\n",
              "      <td>tseries</td>\n",
              "      <td>Música y baile</td>\n",
              "      <td>249500000.0</td>\n",
              "      <td>India</td>\n",
              "      <td>86200.0</td>\n",
              "      <td>2700.0</td>\n",
              "      <td>78.0</td>\n",
              "      <td>http://youtube.com/channel/UCq-Fj5jknLsUf-MWSy...</td>\n",
              "    </tr>\n",
              "    <tr>\n",
              "      <th>1</th>\n",
              "      <td>2</td>\n",
              "      <td>MrBeast</td>\n",
              "      <td>Videojuegos, Humor</td>\n",
              "      <td>183500000.0</td>\n",
              "      <td>Estados Unidos</td>\n",
              "      <td>117400000.0</td>\n",
              "      <td>5300000.0</td>\n",
              "      <td>18500.0</td>\n",
              "      <td>http://youtube.com/channel/UCX6OQ3DkcsbYNE6H8u...</td>\n",
              "    </tr>\n",
              "    <tr>\n",
              "      <th>2</th>\n",
              "      <td>3</td>\n",
              "      <td>CoComelon</td>\n",
              "      <td>Educación</td>\n",
              "      <td>165500000.0</td>\n",
              "      <td>Unknown</td>\n",
              "      <td>7000000.0</td>\n",
              "      <td>24700.0</td>\n",
              "      <td>0.0</td>\n",
              "      <td>http://youtube.com/channel/UCbCmjCuTUZos6Inko4...</td>\n",
              "    </tr>\n",
              "    <tr>\n",
              "      <th>3</th>\n",
              "      <td>4</td>\n",
              "      <td>SETIndia</td>\n",
              "      <td>NaN</td>\n",
              "      <td>162600000.0</td>\n",
              "      <td>India</td>\n",
              "      <td>15600.0</td>\n",
              "      <td>166.0</td>\n",
              "      <td>9.0</td>\n",
              "      <td>http://youtube.com/channel/UCpEhnqL0y41EpW2TvW...</td>\n",
              "    </tr>\n",
              "    <tr>\n",
              "      <th>4</th>\n",
              "      <td>5</td>\n",
              "      <td>KidsDianaShow</td>\n",
              "      <td>Animación, Juguetes</td>\n",
              "      <td>113500000.0</td>\n",
              "      <td>Unknown</td>\n",
              "      <td>3900000.0</td>\n",
              "      <td>12400.0</td>\n",
              "      <td>0.0</td>\n",
              "      <td>http://youtube.com/channel/UCk8GzjMOrta8yxDcKf...</td>\n",
              "    </tr>\n",
              "  </tbody>\n",
              "</table>\n",
              "</div>\n",
              "    <div class=\"colab-df-buttons\">\n",
              "\n",
              "  <div class=\"colab-df-container\">\n",
              "    <button class=\"colab-df-convert\" onclick=\"convertToInteractive('df-251d12e5-5245-4c2e-80c6-4776e115ad9d')\"\n",
              "            title=\"Convert this dataframe to an interactive table.\"\n",
              "            style=\"display:none;\">\n",
              "\n",
              "  <svg xmlns=\"http://www.w3.org/2000/svg\" height=\"24px\" viewBox=\"0 -960 960 960\">\n",
              "    <path d=\"M120-120v-720h720v720H120Zm60-500h600v-160H180v160Zm220 220h160v-160H400v160Zm0 220h160v-160H400v160ZM180-400h160v-160H180v160Zm440 0h160v-160H620v160ZM180-180h160v-160H180v160Zm440 0h160v-160H620v160Z\"/>\n",
              "  </svg>\n",
              "    </button>\n",
              "\n",
              "  <style>\n",
              "    .colab-df-container {\n",
              "      display:flex;\n",
              "      gap: 12px;\n",
              "    }\n",
              "\n",
              "    .colab-df-convert {\n",
              "      background-color: #E8F0FE;\n",
              "      border: none;\n",
              "      border-radius: 50%;\n",
              "      cursor: pointer;\n",
              "      display: none;\n",
              "      fill: #1967D2;\n",
              "      height: 32px;\n",
              "      padding: 0 0 0 0;\n",
              "      width: 32px;\n",
              "    }\n",
              "\n",
              "    .colab-df-convert:hover {\n",
              "      background-color: #E2EBFA;\n",
              "      box-shadow: 0px 1px 2px rgba(60, 64, 67, 0.3), 0px 1px 3px 1px rgba(60, 64, 67, 0.15);\n",
              "      fill: #174EA6;\n",
              "    }\n",
              "\n",
              "    .colab-df-buttons div {\n",
              "      margin-bottom: 4px;\n",
              "    }\n",
              "\n",
              "    [theme=dark] .colab-df-convert {\n",
              "      background-color: #3B4455;\n",
              "      fill: #D2E3FC;\n",
              "    }\n",
              "\n",
              "    [theme=dark] .colab-df-convert:hover {\n",
              "      background-color: #434B5C;\n",
              "      box-shadow: 0px 1px 3px 1px rgba(0, 0, 0, 0.15);\n",
              "      filter: drop-shadow(0px 1px 2px rgba(0, 0, 0, 0.3));\n",
              "      fill: #FFFFFF;\n",
              "    }\n",
              "  </style>\n",
              "\n",
              "    <script>\n",
              "      const buttonEl =\n",
              "        document.querySelector('#df-251d12e5-5245-4c2e-80c6-4776e115ad9d button.colab-df-convert');\n",
              "      buttonEl.style.display =\n",
              "        google.colab.kernel.accessAllowed ? 'block' : 'none';\n",
              "\n",
              "      async function convertToInteractive(key) {\n",
              "        const element = document.querySelector('#df-251d12e5-5245-4c2e-80c6-4776e115ad9d');\n",
              "        const dataTable =\n",
              "          await google.colab.kernel.invokeFunction('convertToInteractive',\n",
              "                                                    [key], {});\n",
              "        if (!dataTable) return;\n",
              "\n",
              "        const docLinkHtml = 'Like what you see? Visit the ' +\n",
              "          '<a target=\"_blank\" href=https://colab.research.google.com/notebooks/data_table.ipynb>data table notebook</a>'\n",
              "          + ' to learn more about interactive tables.';\n",
              "        element.innerHTML = '';\n",
              "        dataTable['output_type'] = 'display_data';\n",
              "        await google.colab.output.renderOutput(dataTable, element);\n",
              "        const docLink = document.createElement('div');\n",
              "        docLink.innerHTML = docLinkHtml;\n",
              "        element.appendChild(docLink);\n",
              "      }\n",
              "    </script>\n",
              "  </div>\n",
              "\n",
              "\n",
              "<div id=\"df-1c39d32a-03c8-40eb-842c-bae8b382094c\">\n",
              "  <button class=\"colab-df-quickchart\" onclick=\"quickchart('df-1c39d32a-03c8-40eb-842c-bae8b382094c')\"\n",
              "            title=\"Suggest charts\"\n",
              "            style=\"display:none;\">\n",
              "\n",
              "<svg xmlns=\"http://www.w3.org/2000/svg\" height=\"24px\"viewBox=\"0 0 24 24\"\n",
              "     width=\"24px\">\n",
              "    <g>\n",
              "        <path d=\"M19 3H5c-1.1 0-2 .9-2 2v14c0 1.1.9 2 2 2h14c1.1 0 2-.9 2-2V5c0-1.1-.9-2-2-2zM9 17H7v-7h2v7zm4 0h-2V7h2v10zm4 0h-2v-4h2v4z\"/>\n",
              "    </g>\n",
              "</svg>\n",
              "  </button>\n",
              "\n",
              "<style>\n",
              "  .colab-df-quickchart {\n",
              "      --bg-color: #E8F0FE;\n",
              "      --fill-color: #1967D2;\n",
              "      --hover-bg-color: #E2EBFA;\n",
              "      --hover-fill-color: #174EA6;\n",
              "      --disabled-fill-color: #AAA;\n",
              "      --disabled-bg-color: #DDD;\n",
              "  }\n",
              "\n",
              "  [theme=dark] .colab-df-quickchart {\n",
              "      --bg-color: #3B4455;\n",
              "      --fill-color: #D2E3FC;\n",
              "      --hover-bg-color: #434B5C;\n",
              "      --hover-fill-color: #FFFFFF;\n",
              "      --disabled-bg-color: #3B4455;\n",
              "      --disabled-fill-color: #666;\n",
              "  }\n",
              "\n",
              "  .colab-df-quickchart {\n",
              "    background-color: var(--bg-color);\n",
              "    border: none;\n",
              "    border-radius: 50%;\n",
              "    cursor: pointer;\n",
              "    display: none;\n",
              "    fill: var(--fill-color);\n",
              "    height: 32px;\n",
              "    padding: 0;\n",
              "    width: 32px;\n",
              "  }\n",
              "\n",
              "  .colab-df-quickchart:hover {\n",
              "    background-color: var(--hover-bg-color);\n",
              "    box-shadow: 0 1px 2px rgba(60, 64, 67, 0.3), 0 1px 3px 1px rgba(60, 64, 67, 0.15);\n",
              "    fill: var(--button-hover-fill-color);\n",
              "  }\n",
              "\n",
              "  .colab-df-quickchart-complete:disabled,\n",
              "  .colab-df-quickchart-complete:disabled:hover {\n",
              "    background-color: var(--disabled-bg-color);\n",
              "    fill: var(--disabled-fill-color);\n",
              "    box-shadow: none;\n",
              "  }\n",
              "\n",
              "  .colab-df-spinner {\n",
              "    border: 2px solid var(--fill-color);\n",
              "    border-color: transparent;\n",
              "    border-bottom-color: var(--fill-color);\n",
              "    animation:\n",
              "      spin 1s steps(1) infinite;\n",
              "  }\n",
              "\n",
              "  @keyframes spin {\n",
              "    0% {\n",
              "      border-color: transparent;\n",
              "      border-bottom-color: var(--fill-color);\n",
              "      border-left-color: var(--fill-color);\n",
              "    }\n",
              "    20% {\n",
              "      border-color: transparent;\n",
              "      border-left-color: var(--fill-color);\n",
              "      border-top-color: var(--fill-color);\n",
              "    }\n",
              "    30% {\n",
              "      border-color: transparent;\n",
              "      border-left-color: var(--fill-color);\n",
              "      border-top-color: var(--fill-color);\n",
              "      border-right-color: var(--fill-color);\n",
              "    }\n",
              "    40% {\n",
              "      border-color: transparent;\n",
              "      border-right-color: var(--fill-color);\n",
              "      border-top-color: var(--fill-color);\n",
              "    }\n",
              "    60% {\n",
              "      border-color: transparent;\n",
              "      border-right-color: var(--fill-color);\n",
              "    }\n",
              "    80% {\n",
              "      border-color: transparent;\n",
              "      border-right-color: var(--fill-color);\n",
              "      border-bottom-color: var(--fill-color);\n",
              "    }\n",
              "    90% {\n",
              "      border-color: transparent;\n",
              "      border-bottom-color: var(--fill-color);\n",
              "    }\n",
              "  }\n",
              "</style>\n",
              "\n",
              "  <script>\n",
              "    async function quickchart(key) {\n",
              "      const quickchartButtonEl =\n",
              "        document.querySelector('#' + key + ' button');\n",
              "      quickchartButtonEl.disabled = true;  // To prevent multiple clicks.\n",
              "      quickchartButtonEl.classList.add('colab-df-spinner');\n",
              "      try {\n",
              "        const charts = await google.colab.kernel.invokeFunction(\n",
              "            'suggestCharts', [key], {});\n",
              "      } catch (error) {\n",
              "        console.error('Error during call to suggestCharts:', error);\n",
              "      }\n",
              "      quickchartButtonEl.classList.remove('colab-df-spinner');\n",
              "      quickchartButtonEl.classList.add('colab-df-quickchart-complete');\n",
              "    }\n",
              "    (() => {\n",
              "      let quickchartButtonEl =\n",
              "        document.querySelector('#df-1c39d32a-03c8-40eb-842c-bae8b382094c button');\n",
              "      quickchartButtonEl.style.display =\n",
              "        google.colab.kernel.accessAllowed ? 'block' : 'none';\n",
              "    })();\n",
              "  </script>\n",
              "</div>\n",
              "    </div>\n",
              "  </div>\n"
            ]
          },
          "metadata": {},
          "execution_count": 2
        }
      ]
    },
    {
      "cell_type": "markdown",
      "source": [
        "Output: Menampilkan 9 baris kolom dari dataset Youtubers Statistics"
      ],
      "metadata": {
        "id": "-_m2F0WG2xeN"
      }
    },
    {
      "cell_type": "markdown",
      "source": [
        "# EDA\n",
        "EDA, atau Exploratory Data Analysis, adalah suatu pendekatan dalam analisis data yang bertujuan untuk memahami karakteristik dasar dari dataset yang digunakan. Dalam konteks machine learning, EDA sangat penting karena membantu pemahaman awal terhadap data, memastikan kualitas data, dan mengidentifikasi pola atau tren yang mungkin relevan untuk pemodelan."
      ],
      "metadata": {
        "id": "SFjFhEhx1gFv"
      }
    },
    {
      "cell_type": "code",
      "source": [
        "# Menampilkan informasi ringkas tentang dataset\n",
        "df.info()"
      ],
      "metadata": {
        "colab": {
          "base_uri": "https://localhost:8080/"
        },
        "id": "6kcuX69l1-zS",
        "outputId": "d0ada6d0-825f-4913-9c3b-f3acf021728d"
      },
      "execution_count": 3,
      "outputs": [
        {
          "output_type": "stream",
          "name": "stdout",
          "text": [
            "<class 'pandas.core.frame.DataFrame'>\n",
            "RangeIndex: 1000 entries, 0 to 999\n",
            "Data columns (total 9 columns):\n",
            " #   Column      Non-Null Count  Dtype  \n",
            "---  ------      --------------  -----  \n",
            " 0   Rank        1000 non-null   int64  \n",
            " 1   Username    1000 non-null   object \n",
            " 2   Categories  694 non-null    object \n",
            " 3   Suscribers  1000 non-null   float64\n",
            " 4   Country     1000 non-null   object \n",
            " 5   Visits      1000 non-null   float64\n",
            " 6   Likes       1000 non-null   float64\n",
            " 7   Comments    1000 non-null   float64\n",
            " 8   Links       1000 non-null   object \n",
            "dtypes: float64(4), int64(1), object(4)\n",
            "memory usage: 70.4+ KB\n"
          ]
        }
      ]
    },
    {
      "cell_type": "markdown",
      "source": [
        "Output: Menampilkan info mengenai 1000 data yang terdapat pada dataset (dimulai dari 0) dan menampilkan 9 kolom dengan tipe data float, integer, dan object"
      ],
      "metadata": {
        "id": "3i4zBljX3Pbi"
      }
    },
    {
      "cell_type": "code",
      "source": [
        "# Mendapatkan statistik deskriptif dari dataset\n",
        "df.describe()"
      ],
      "metadata": {
        "colab": {
          "base_uri": "https://localhost:8080/",
          "height": 300
        },
        "id": "hZJ2CL_K3ndD",
        "outputId": "827e3d06-979b-43d9-ec02-6e2ba3eb453a"
      },
      "execution_count": 4,
      "outputs": [
        {
          "output_type": "execute_result",
          "data": {
            "text/plain": [
              "              Rank    Suscribers        Visits         Likes       Comments\n",
              "count  1000.000000  1.000000e+03  1.000000e+03  1.000000e+03    1000.000000\n",
              "mean    500.500000  2.189440e+07  1.209446e+06  5.363259e+04    1288.768000\n",
              "std     288.819436  1.682775e+07  5.229942e+06  2.580457e+05    6778.188308\n",
              "min       1.000000  1.170000e+07  0.000000e+00  0.000000e+00       0.000000\n",
              "25%     250.750000  1.380000e+07  3.197500e+04  4.717500e+02       2.000000\n",
              "50%     500.500000  1.675000e+07  1.744500e+05  3.500000e+03      67.000000\n",
              "75%     750.250000  2.370000e+07  8.654750e+05  2.865000e+04     472.000000\n",
              "max    1000.000000  2.495000e+08  1.174000e+08  5.300000e+06  154000.000000"
            ],
            "text/html": [
              "\n",
              "  <div id=\"df-517fc7ac-1914-4606-9db0-803f97bf0447\" class=\"colab-df-container\">\n",
              "    <div>\n",
              "<style scoped>\n",
              "    .dataframe tbody tr th:only-of-type {\n",
              "        vertical-align: middle;\n",
              "    }\n",
              "\n",
              "    .dataframe tbody tr th {\n",
              "        vertical-align: top;\n",
              "    }\n",
              "\n",
              "    .dataframe thead th {\n",
              "        text-align: right;\n",
              "    }\n",
              "</style>\n",
              "<table border=\"1\" class=\"dataframe\">\n",
              "  <thead>\n",
              "    <tr style=\"text-align: right;\">\n",
              "      <th></th>\n",
              "      <th>Rank</th>\n",
              "      <th>Suscribers</th>\n",
              "      <th>Visits</th>\n",
              "      <th>Likes</th>\n",
              "      <th>Comments</th>\n",
              "    </tr>\n",
              "  </thead>\n",
              "  <tbody>\n",
              "    <tr>\n",
              "      <th>count</th>\n",
              "      <td>1000.000000</td>\n",
              "      <td>1.000000e+03</td>\n",
              "      <td>1.000000e+03</td>\n",
              "      <td>1.000000e+03</td>\n",
              "      <td>1000.000000</td>\n",
              "    </tr>\n",
              "    <tr>\n",
              "      <th>mean</th>\n",
              "      <td>500.500000</td>\n",
              "      <td>2.189440e+07</td>\n",
              "      <td>1.209446e+06</td>\n",
              "      <td>5.363259e+04</td>\n",
              "      <td>1288.768000</td>\n",
              "    </tr>\n",
              "    <tr>\n",
              "      <th>std</th>\n",
              "      <td>288.819436</td>\n",
              "      <td>1.682775e+07</td>\n",
              "      <td>5.229942e+06</td>\n",
              "      <td>2.580457e+05</td>\n",
              "      <td>6778.188308</td>\n",
              "    </tr>\n",
              "    <tr>\n",
              "      <th>min</th>\n",
              "      <td>1.000000</td>\n",
              "      <td>1.170000e+07</td>\n",
              "      <td>0.000000e+00</td>\n",
              "      <td>0.000000e+00</td>\n",
              "      <td>0.000000</td>\n",
              "    </tr>\n",
              "    <tr>\n",
              "      <th>25%</th>\n",
              "      <td>250.750000</td>\n",
              "      <td>1.380000e+07</td>\n",
              "      <td>3.197500e+04</td>\n",
              "      <td>4.717500e+02</td>\n",
              "      <td>2.000000</td>\n",
              "    </tr>\n",
              "    <tr>\n",
              "      <th>50%</th>\n",
              "      <td>500.500000</td>\n",
              "      <td>1.675000e+07</td>\n",
              "      <td>1.744500e+05</td>\n",
              "      <td>3.500000e+03</td>\n",
              "      <td>67.000000</td>\n",
              "    </tr>\n",
              "    <tr>\n",
              "      <th>75%</th>\n",
              "      <td>750.250000</td>\n",
              "      <td>2.370000e+07</td>\n",
              "      <td>8.654750e+05</td>\n",
              "      <td>2.865000e+04</td>\n",
              "      <td>472.000000</td>\n",
              "    </tr>\n",
              "    <tr>\n",
              "      <th>max</th>\n",
              "      <td>1000.000000</td>\n",
              "      <td>2.495000e+08</td>\n",
              "      <td>1.174000e+08</td>\n",
              "      <td>5.300000e+06</td>\n",
              "      <td>154000.000000</td>\n",
              "    </tr>\n",
              "  </tbody>\n",
              "</table>\n",
              "</div>\n",
              "    <div class=\"colab-df-buttons\">\n",
              "\n",
              "  <div class=\"colab-df-container\">\n",
              "    <button class=\"colab-df-convert\" onclick=\"convertToInteractive('df-517fc7ac-1914-4606-9db0-803f97bf0447')\"\n",
              "            title=\"Convert this dataframe to an interactive table.\"\n",
              "            style=\"display:none;\">\n",
              "\n",
              "  <svg xmlns=\"http://www.w3.org/2000/svg\" height=\"24px\" viewBox=\"0 -960 960 960\">\n",
              "    <path d=\"M120-120v-720h720v720H120Zm60-500h600v-160H180v160Zm220 220h160v-160H400v160Zm0 220h160v-160H400v160ZM180-400h160v-160H180v160Zm440 0h160v-160H620v160ZM180-180h160v-160H180v160Zm440 0h160v-160H620v160Z\"/>\n",
              "  </svg>\n",
              "    </button>\n",
              "\n",
              "  <style>\n",
              "    .colab-df-container {\n",
              "      display:flex;\n",
              "      gap: 12px;\n",
              "    }\n",
              "\n",
              "    .colab-df-convert {\n",
              "      background-color: #E8F0FE;\n",
              "      border: none;\n",
              "      border-radius: 50%;\n",
              "      cursor: pointer;\n",
              "      display: none;\n",
              "      fill: #1967D2;\n",
              "      height: 32px;\n",
              "      padding: 0 0 0 0;\n",
              "      width: 32px;\n",
              "    }\n",
              "\n",
              "    .colab-df-convert:hover {\n",
              "      background-color: #E2EBFA;\n",
              "      box-shadow: 0px 1px 2px rgba(60, 64, 67, 0.3), 0px 1px 3px 1px rgba(60, 64, 67, 0.15);\n",
              "      fill: #174EA6;\n",
              "    }\n",
              "\n",
              "    .colab-df-buttons div {\n",
              "      margin-bottom: 4px;\n",
              "    }\n",
              "\n",
              "    [theme=dark] .colab-df-convert {\n",
              "      background-color: #3B4455;\n",
              "      fill: #D2E3FC;\n",
              "    }\n",
              "\n",
              "    [theme=dark] .colab-df-convert:hover {\n",
              "      background-color: #434B5C;\n",
              "      box-shadow: 0px 1px 3px 1px rgba(0, 0, 0, 0.15);\n",
              "      filter: drop-shadow(0px 1px 2px rgba(0, 0, 0, 0.3));\n",
              "      fill: #FFFFFF;\n",
              "    }\n",
              "  </style>\n",
              "\n",
              "    <script>\n",
              "      const buttonEl =\n",
              "        document.querySelector('#df-517fc7ac-1914-4606-9db0-803f97bf0447 button.colab-df-convert');\n",
              "      buttonEl.style.display =\n",
              "        google.colab.kernel.accessAllowed ? 'block' : 'none';\n",
              "\n",
              "      async function convertToInteractive(key) {\n",
              "        const element = document.querySelector('#df-517fc7ac-1914-4606-9db0-803f97bf0447');\n",
              "        const dataTable =\n",
              "          await google.colab.kernel.invokeFunction('convertToInteractive',\n",
              "                                                    [key], {});\n",
              "        if (!dataTable) return;\n",
              "\n",
              "        const docLinkHtml = 'Like what you see? Visit the ' +\n",
              "          '<a target=\"_blank\" href=https://colab.research.google.com/notebooks/data_table.ipynb>data table notebook</a>'\n",
              "          + ' to learn more about interactive tables.';\n",
              "        element.innerHTML = '';\n",
              "        dataTable['output_type'] = 'display_data';\n",
              "        await google.colab.output.renderOutput(dataTable, element);\n",
              "        const docLink = document.createElement('div');\n",
              "        docLink.innerHTML = docLinkHtml;\n",
              "        element.appendChild(docLink);\n",
              "      }\n",
              "    </script>\n",
              "  </div>\n",
              "\n",
              "\n",
              "<div id=\"df-20308ca0-4278-4f30-96bd-f4479eb36698\">\n",
              "  <button class=\"colab-df-quickchart\" onclick=\"quickchart('df-20308ca0-4278-4f30-96bd-f4479eb36698')\"\n",
              "            title=\"Suggest charts\"\n",
              "            style=\"display:none;\">\n",
              "\n",
              "<svg xmlns=\"http://www.w3.org/2000/svg\" height=\"24px\"viewBox=\"0 0 24 24\"\n",
              "     width=\"24px\">\n",
              "    <g>\n",
              "        <path d=\"M19 3H5c-1.1 0-2 .9-2 2v14c0 1.1.9 2 2 2h14c1.1 0 2-.9 2-2V5c0-1.1-.9-2-2-2zM9 17H7v-7h2v7zm4 0h-2V7h2v10zm4 0h-2v-4h2v4z\"/>\n",
              "    </g>\n",
              "</svg>\n",
              "  </button>\n",
              "\n",
              "<style>\n",
              "  .colab-df-quickchart {\n",
              "      --bg-color: #E8F0FE;\n",
              "      --fill-color: #1967D2;\n",
              "      --hover-bg-color: #E2EBFA;\n",
              "      --hover-fill-color: #174EA6;\n",
              "      --disabled-fill-color: #AAA;\n",
              "      --disabled-bg-color: #DDD;\n",
              "  }\n",
              "\n",
              "  [theme=dark] .colab-df-quickchart {\n",
              "      --bg-color: #3B4455;\n",
              "      --fill-color: #D2E3FC;\n",
              "      --hover-bg-color: #434B5C;\n",
              "      --hover-fill-color: #FFFFFF;\n",
              "      --disabled-bg-color: #3B4455;\n",
              "      --disabled-fill-color: #666;\n",
              "  }\n",
              "\n",
              "  .colab-df-quickchart {\n",
              "    background-color: var(--bg-color);\n",
              "    border: none;\n",
              "    border-radius: 50%;\n",
              "    cursor: pointer;\n",
              "    display: none;\n",
              "    fill: var(--fill-color);\n",
              "    height: 32px;\n",
              "    padding: 0;\n",
              "    width: 32px;\n",
              "  }\n",
              "\n",
              "  .colab-df-quickchart:hover {\n",
              "    background-color: var(--hover-bg-color);\n",
              "    box-shadow: 0 1px 2px rgba(60, 64, 67, 0.3), 0 1px 3px 1px rgba(60, 64, 67, 0.15);\n",
              "    fill: var(--button-hover-fill-color);\n",
              "  }\n",
              "\n",
              "  .colab-df-quickchart-complete:disabled,\n",
              "  .colab-df-quickchart-complete:disabled:hover {\n",
              "    background-color: var(--disabled-bg-color);\n",
              "    fill: var(--disabled-fill-color);\n",
              "    box-shadow: none;\n",
              "  }\n",
              "\n",
              "  .colab-df-spinner {\n",
              "    border: 2px solid var(--fill-color);\n",
              "    border-color: transparent;\n",
              "    border-bottom-color: var(--fill-color);\n",
              "    animation:\n",
              "      spin 1s steps(1) infinite;\n",
              "  }\n",
              "\n",
              "  @keyframes spin {\n",
              "    0% {\n",
              "      border-color: transparent;\n",
              "      border-bottom-color: var(--fill-color);\n",
              "      border-left-color: var(--fill-color);\n",
              "    }\n",
              "    20% {\n",
              "      border-color: transparent;\n",
              "      border-left-color: var(--fill-color);\n",
              "      border-top-color: var(--fill-color);\n",
              "    }\n",
              "    30% {\n",
              "      border-color: transparent;\n",
              "      border-left-color: var(--fill-color);\n",
              "      border-top-color: var(--fill-color);\n",
              "      border-right-color: var(--fill-color);\n",
              "    }\n",
              "    40% {\n",
              "      border-color: transparent;\n",
              "      border-right-color: var(--fill-color);\n",
              "      border-top-color: var(--fill-color);\n",
              "    }\n",
              "    60% {\n",
              "      border-color: transparent;\n",
              "      border-right-color: var(--fill-color);\n",
              "    }\n",
              "    80% {\n",
              "      border-color: transparent;\n",
              "      border-right-color: var(--fill-color);\n",
              "      border-bottom-color: var(--fill-color);\n",
              "    }\n",
              "    90% {\n",
              "      border-color: transparent;\n",
              "      border-bottom-color: var(--fill-color);\n",
              "    }\n",
              "  }\n",
              "</style>\n",
              "\n",
              "  <script>\n",
              "    async function quickchart(key) {\n",
              "      const quickchartButtonEl =\n",
              "        document.querySelector('#' + key + ' button');\n",
              "      quickchartButtonEl.disabled = true;  // To prevent multiple clicks.\n",
              "      quickchartButtonEl.classList.add('colab-df-spinner');\n",
              "      try {\n",
              "        const charts = await google.colab.kernel.invokeFunction(\n",
              "            'suggestCharts', [key], {});\n",
              "      } catch (error) {\n",
              "        console.error('Error during call to suggestCharts:', error);\n",
              "      }\n",
              "      quickchartButtonEl.classList.remove('colab-df-spinner');\n",
              "      quickchartButtonEl.classList.add('colab-df-quickchart-complete');\n",
              "    }\n",
              "    (() => {\n",
              "      let quickchartButtonEl =\n",
              "        document.querySelector('#df-20308ca0-4278-4f30-96bd-f4479eb36698 button');\n",
              "      quickchartButtonEl.style.display =\n",
              "        google.colab.kernel.accessAllowed ? 'block' : 'none';\n",
              "    })();\n",
              "  </script>\n",
              "</div>\n",
              "    </div>\n",
              "  </div>\n"
            ]
          },
          "metadata": {},
          "execution_count": 4
        }
      ]
    },
    {
      "cell_type": "markdown",
      "source": [
        "Output: Menampilkan informasi statistik secara deskriptif berupa count, mean, std, min dan max pada dataset sebelumnya"
      ],
      "metadata": {
        "id": "ofD91bwf38nn"
      }
    },
    {
      "cell_type": "code",
      "source": [
        "# Menampilkan jumlah nilai null dalam setiap kolom\n",
        "df.isnull().sum()"
      ],
      "metadata": {
        "colab": {
          "base_uri": "https://localhost:8080/"
        },
        "id": "Q1R7H2Gc4D-R",
        "outputId": "004d637c-c819-45f2-abb4-4a6f82cb5ea8"
      },
      "execution_count": 6,
      "outputs": [
        {
          "output_type": "execute_result",
          "data": {
            "text/plain": [
              "Rank            0\n",
              "Username        0\n",
              "Categories    306\n",
              "Suscribers      0\n",
              "Country         0\n",
              "Visits          0\n",
              "Likes           0\n",
              "Comments        0\n",
              "Links           0\n",
              "dtype: int64"
            ]
          },
          "metadata": {},
          "execution_count": 6
        }
      ]
    },
    {
      "cell_type": "markdown",
      "source": [
        "Output: Pada kolom Categories terdapat nilai null sebanyak 306 data"
      ],
      "metadata": {
        "id": "YmGfjOEF4xCG"
      }
    },
    {
      "cell_type": "code",
      "source": [
        "# Menghapus baris yang memiliki nilai null\n",
        "df.dropna(inplace=True)"
      ],
      "metadata": {
        "id": "Vi1s5ncS4OuI"
      },
      "execution_count": 8,
      "outputs": []
    },
    {
      "cell_type": "markdown",
      "source": [
        "Output: Melakukan penghapusan pada baris yang memiliki nilai null"
      ],
      "metadata": {
        "id": "b1h2oQ_F45Jh"
      }
    },
    {
      "cell_type": "code",
      "source": [
        "# Mengecek kembali nilai yang hilang di setiap kolom\n",
        "df.isnull().sum()"
      ],
      "metadata": {
        "colab": {
          "base_uri": "https://localhost:8080/"
        },
        "id": "WCMUAsrR4alh",
        "outputId": "0bc8979a-f788-4103-9e26-9872342fd318"
      },
      "execution_count": 9,
      "outputs": [
        {
          "output_type": "execute_result",
          "data": {
            "text/plain": [
              "Rank          0\n",
              "Username      0\n",
              "Categories    0\n",
              "Suscribers    0\n",
              "Country       0\n",
              "Visits        0\n",
              "Likes         0\n",
              "Comments      0\n",
              "Links         0\n",
              "dtype: int64"
            ]
          },
          "metadata": {},
          "execution_count": 9
        }
      ]
    },
    {
      "cell_type": "markdown",
      "source": [
        "Output: Melakukan pengecekan apakah masih ada data yang memiliki nilai null"
      ],
      "metadata": {
        "id": "OM4SIN5f490e"
      }
    },
    {
      "cell_type": "code",
      "source": [
        "# Mengganti nama kolom 'Suscribers' menjadi 'Subscribers' pada DataFrame 'df'\n",
        "df.rename(columns={'Suscribers': 'Subscribers'}, inplace=True)\n",
        "\n",
        "# Menampilkan beberapa baris pertama dari DataFrame untuk memeriksa\n",
        "print(df.head())"
      ],
      "metadata": {
        "colab": {
          "base_uri": "https://localhost:8080/"
        },
        "id": "eY6hFTcD4vOx",
        "outputId": "ae5b4190-4678-4cf7-f2e6-951865dda03b"
      },
      "execution_count": 11,
      "outputs": [
        {
          "output_type": "stream",
          "name": "stdout",
          "text": [
            "   Rank       Username              Categories  Subscribers         Country  \\\n",
            "0     1        tseries          Música y baile  249500000.0           India   \n",
            "1     2        MrBeast      Videojuegos, Humor  183500000.0  Estados Unidos   \n",
            "2     3      CoComelon               Educación  165500000.0         Unknown   \n",
            "4     5  KidsDianaShow     Animación, Juguetes  113500000.0         Unknown   \n",
            "5     6      PewDiePie  Películas, Videojuegos  111500000.0  Estados Unidos   \n",
            "\n",
            "        Visits      Likes  Comments  \\\n",
            "0      86200.0     2700.0      78.0   \n",
            "1  117400000.0  5300000.0   18500.0   \n",
            "2    7000000.0    24700.0       0.0   \n",
            "4    3900000.0    12400.0       0.0   \n",
            "5    2400000.0   197300.0    4900.0   \n",
            "\n",
            "                                               Links  \n",
            "0  http://youtube.com/channel/UCq-Fj5jknLsUf-MWSy...  \n",
            "1  http://youtube.com/channel/UCX6OQ3DkcsbYNE6H8u...  \n",
            "2  http://youtube.com/channel/UCbCmjCuTUZos6Inko4...  \n",
            "4  http://youtube.com/channel/UCk8GzjMOrta8yxDcKf...  \n",
            "5  http://youtube.com/channel/UC-lHJZR3Gqxm24_Vd_...  \n"
          ]
        }
      ]
    },
    {
      "cell_type": "markdown",
      "source": [
        "Output: Dataset pada kolom 'Suscribers' sebelumnya sudah berganti nama menjadi 'Subscribers'"
      ],
      "metadata": {
        "id": "VAQ4Zjp061eE"
      }
    },
    {
      "cell_type": "code",
      "source": [
        "# Menghapus kolom 'Categories' dan 'Country' dari DataFrame 'df'\n",
        "df.drop(['Categories', 'Country'], axis=1, inplace=True)\n",
        "\n",
        "# Menampilkan beberapa baris pertama dari DataFrame untuk memeriksa\n",
        "print(df.head())"
      ],
      "metadata": {
        "colab": {
          "base_uri": "https://localhost:8080/"
        },
        "id": "KXQSp-sp77j7",
        "outputId": "79b3cd76-85af-4f6d-a1a3-603e90d956cd"
      },
      "execution_count": 12,
      "outputs": [
        {
          "output_type": "stream",
          "name": "stdout",
          "text": [
            "   Rank       Username  Subscribers       Visits      Likes  Comments  \\\n",
            "0     1        tseries  249500000.0      86200.0     2700.0      78.0   \n",
            "1     2        MrBeast  183500000.0  117400000.0  5300000.0   18500.0   \n",
            "2     3      CoComelon  165500000.0    7000000.0    24700.0       0.0   \n",
            "4     5  KidsDianaShow  113500000.0    3900000.0    12400.0       0.0   \n",
            "5     6      PewDiePie  111500000.0    2400000.0   197300.0    4900.0   \n",
            "\n",
            "                                               Links  \n",
            "0  http://youtube.com/channel/UCq-Fj5jknLsUf-MWSy...  \n",
            "1  http://youtube.com/channel/UCX6OQ3DkcsbYNE6H8u...  \n",
            "2  http://youtube.com/channel/UCbCmjCuTUZos6Inko4...  \n",
            "4  http://youtube.com/channel/UCk8GzjMOrta8yxDcKf...  \n",
            "5  http://youtube.com/channel/UC-lHJZR3Gqxm24_Vd_...  \n"
          ]
        }
      ]
    },
    {
      "cell_type": "markdown",
      "source": [
        "Output: Dataset pada kolom 'Categories', 'Country' sebelumnya sudah berhasil dihapus"
      ],
      "metadata": {
        "id": "D5VGctFw8-2j"
      }
    },
    {
      "cell_type": "markdown",
      "source": [
        "# Data Visualization\n",
        "Data visualization (visualisasi data) dalam konteks machine learning adalah proses menggambarkan informasi dan hubungan dalam data menggunakan elemen-elemen visual seperti grafik, plot, dan diagram. Tujuan utama dari data visualization dalam machine learning adalah untuk membuat pemahaman yang lebih baik tentang pola, tren, dan karakteristik data, sehingga memudahkan pengambilan keputusan yang informasional."
      ],
      "metadata": {
        "id": "sS8zDNmN_6gZ"
      }
    },
    {
      "cell_type": "markdown",
      "source": [
        "\n",
        "\n",
        "```\n",
        "# Prompt: Beri kode untuk melakukan analisis elbow untuk menentukan jumlah optimal dari clusters menggunakan algoritma K-Means pada kolom 'Rank', 'Username', 'Suscribers', 'Visits', 'Likes', dan 'Comments'. Tampilkan hasil analisis elbow dalam bentuk grafik.\n",
        "```\n",
        "\n"
      ],
      "metadata": {
        "id": "aG2jKvJdFMMe"
      }
    },
    {
      "cell_type": "code",
      "source": [
        "# Mengimpor pustaka Pandas untuk manipulasi dan analisis data\n",
        "import pandas as pd\n",
        "\n",
        "# Mengimpor pustaka Matplotlib untuk membuat visualisasi grafik\n",
        "import matplotlib.pyplot as plt\n",
        "\n",
        "#  Mengimpor algoritma K-Means dari pustaka scikit-learn untuk melakukan clustering\n",
        "from sklearn.cluster import KMeans\n",
        "\n",
        "# Mengimpor modul StandardScaler dari scikit-learn untuk melakukan standardisasi data\n",
        "from sklearn.preprocessing import StandardScaler\n",
        "\n",
        "# Mengimpor modul PCA (Principal Component Analysis) dari scikit-learn untuk reduksi dimensi.\n",
        "from sklearn.decomposition import PCA"
      ],
      "metadata": {
        "id": "UTMRvIJfC9hb"
      },
      "execution_count": 36,
      "outputs": []
    },
    {
      "cell_type": "markdown",
      "source": [
        "Output: mengimpor pustaka dan modul yang diperlukan untuk analisis data, tetapi tidak melakukan eksekusi analisis atau visualisasi."
      ],
      "metadata": {
        "id": "s6FSVdOjE2jB"
      }
    },
    {
      "cell_type": "code",
      "source": [
        "# Memilih kolom untuk analisis elbow\n",
        "columns_to_cluster = ['Rank', 'Subscribers', 'Visits', 'Likes', 'Comments']\n",
        "\n",
        "# Mengambil subset dataset\n",
        "data_for_clustering = df[columns_to_cluster]\n",
        "\n",
        "# Standardisasi data\n",
        "scaler = StandardScaler()\n",
        "data_scaled = scaler.fit_transform(data_for_clustering)\n",
        "\n",
        "# Menentukan jumlah cluster untuk analisis elbow\n",
        "distortions = []\n",
        "for i in range(1, 11):\n",
        "    kmeans = KMeans(n_clusters=i, n_init=10, random_state=0)\n",
        "    kmeans.fit(data_scaled)\n",
        "    distortions.append(kmeans.inertia_)\n",
        "\n",
        "# Menampilkan grafik elbow\n",
        "plt.figure(figsize=(8, 5))\n",
        "plt.plot(range(1, 11), distortions, marker='o')\n",
        "plt.title('Elbow Method for Optimal k')\n",
        "plt.xlabel('Number of Clusters (k)')\n",
        "plt.ylabel('Distortion')\n",
        "plt.show()"
      ],
      "metadata": {
        "colab": {
          "base_uri": "https://localhost:8080/",
          "height": 487
        },
        "id": "BEmzbz5xBcTG",
        "outputId": "cdb5ae19-08a1-4073-f61b-142922ecf76a"
      },
      "execution_count": 42,
      "outputs": [
        {
          "output_type": "display_data",
          "data": {
            "text/plain": [
              "<Figure size 800x500 with 1 Axes>"
            ],
            "image/png": "[encoded data removed]"
          },
          "metadata": {}
        }
      ]
    },
    {
      "cell_type": "markdown",
      "source": [
        "\n",
        "Output: Grafik yang menunjukkan nilai distorsi (inertia) terhadap jumlah cluster (k) dalam analisis elbow menggunakan algoritma K-Means. Grafik tersebut memungkinkan kita untuk menentukan jumlah optimal dari cluster berdasarkan lokasi \"siku\" pada kurva."
      ],
      "metadata": {
        "id": "49V3ubKxEqBb"
      }
    },
    {
      "cell_type": "markdown",
      "source": [
        "# Training with K-Means Clustering\n",
        "K-Means adalah algoritma unsupervised learning yang digunakan untuk mengelompokkan data ke dalam kelompok-kelompok yang disebut cluster. Proses pelatihan di sini tidak seperti dalam supervised learning di mana model dilatih dengan menggunakan label target yang sudah diketahui. Sebaliknya, K-Means mencoba mengelompokkan data berdasarkan pola internal yang ada dalam atribut-atributnya."
      ],
      "metadata": {
        "id": "sTp7VGvBHEG1"
      }
    },
    {
      "cell_type": "markdown",
      "source": [
        "\n",
        "\n",
        "```\n",
        "# Prompt: Beri kode untuk melakukan K-Means clustering pada kolom 'Rank', 'Username', 'Suscribers', 'Visits', 'Likes', dan 'Comments' dengan jumlah klaster (clusters) sebanyak 5. Tambahkan kolom 'label' ke DataFrame untuk menandai klaster setiap data. Terakhir, tampilkan scatter plot hasil klastering dengan warna yang berbeda untuk setiap klaster dan tandai pusat klaster (centroids) dengan warna merah.\n",
        "```\n",
        "\n"
      ],
      "metadata": {
        "id": "K56_WJNNFUPN"
      }
    },
    {
      "cell_type": "code",
      "source": [
        "# Menentukan jumlah cluster\n",
        "num_clusters = 2\n",
        "\n",
        "# Mendapatkan label cluster untuk setiap data\n",
        "labels = kmeans.labels_\n",
        "\n",
        "# Menambahkan kolom 'label' ke dalam DataFrame\n",
        "df['label'] = labels\n",
        "\n",
        "# Mendapatkan pusat klaster (centroids)\n",
        "centroids = scaler.inverse_transform(kmeans.cluster_centers_)\n",
        "\n",
        "# Menampilkan scatter plot hasil klastering\n",
        "plt.figure(figsize=(10, 6))\n",
        "\n",
        "# Scatter plot data untuk setiap klaster dengan warna yang berbeda\n",
        "for label in range(num_clusters):\n",
        "    cluster_data = df[df['label'] == label]\n",
        "    plt.scatter(cluster_data['Rank'], cluster_data['Subscribers'], label=f'Cluster {label}', alpha=0.7)\n",
        "\n",
        "# Plot pusat klaster (centroids) dengan warna merah\n",
        "plt.scatter(centroids[:, 0], centroids[:, 1], marker='X', s=200, c='red', label='Centroids')\n",
        "\n",
        "plt.title('K-Means Clustering')\n",
        "plt.xlabel('Rank')\n",
        "plt.ylabel('Subscribers')\n",
        "plt.legend()\n",
        "plt.show()"
      ],
      "metadata": {
        "colab": {
          "base_uri": "https://localhost:8080/",
          "height": 564
        },
        "id": "Pg4nTzVdHrV-",
        "outputId": "ea268b97-1513-4c2f-898b-a1e7253a2028"
      },
      "execution_count": 43,
      "outputs": [
        {
          "output_type": "display_data",
          "data": {
            "text/plain": [
              "<Figure size 1000x600 with 1 Axes>"
            ],
            "image/png": "[encoded data removed]"
          },
          "metadata": {}
        }
      ]
    },
    {
      "cell_type": "markdown",
      "source": [
        "Output: Scatter plot yang menunjukkan hasil klastering menggunakan algoritma K-Means pada dataset. Dua klaster ditandai dengan warna yang berbeda, dan pusat klaster (centroids) ditandai dengan marker 'X' berwarna merah. Scatter plot ini menggambarkan sebaran data pada kolom 'Rank' dan 'Subscribers' ke dalam dua klaster yang telah ditentukan oleh model K-Means."
      ],
      "metadata": {
        "id": "Z8bWsB1PIfvN"
      }
    },
    {
      "cell_type": "markdown",
      "source": [
        "# Evaluating with K-Means Clustering\n",
        "Evaluating K-Means Clustering melibatkan penggunaan metrik tertentu untuk mengevaluasi sejauh mana model K-Means berhasil dalam mengelompokkan data menjadi klaster yang bermakna. Evaluasi dilakukan untuk memahami seberapa baik model telah mengidentifikasi pola atau struktur dalam data."
      ],
      "metadata": {
        "id": "oGiitBafIlWB"
      }
    },
    {
      "cell_type": "markdown",
      "source": [
        "## Silhouette Score\n",
        "Evaluasi K-Means menggunakan Silhouette Score dapat memberikan wawasan tentang seberapa baik objek-data berada di dalam klaster mereka sendiri dibandingkan dengan klaster tetangga terdekat. Silhouette Score berkisar dari -1 hingga 1, di mana nilai tinggi menunjukkan bahwa objek-data cukup terpisah dari klaster lainnya."
      ],
      "metadata": {
        "id": "V-GgQvpoNUvp"
      }
    },
    {
      "cell_type": "markdown",
      "source": [
        "\n",
        "\n",
        "```\n",
        "# Prompt: Beri kode untuk melakukan analisis Silhouette Score untuk menentukan jumlah optimal dari Clusters menggunakan algoritma K-Means pada kolom 'Rank', 'Username', 'Suscribers', 'Visits', 'Likes', dan 'Comments'. Tampilkan hasil analisis dalam bentuk grafik dan sertakan nilai Silhouette Score untuk setiap jumlah klaster.\n",
        "```\n",
        "\n"
      ],
      "metadata": {
        "id": "cvIGO4AGI_oz"
      }
    },
    {
      "cell_type": "code",
      "source": [
        "# Menyimpan nilai Silhouette Score untuk setiap jumlah cluster\n",
        "silhouette_scores = []\n",
        "\n",
        "# Melakukan analisis Silhouette Score untuk setiap jumlah cluster\n",
        "for num_clusters in range_clusters:\n",
        "    kmeans = KMeans(n_clusters=num_clusters, n_init=10, random_state=0)\n",
        "    kmeans.fit(data_scaled)\n",
        "    labels = kmeans.labels_\n",
        "    silhouette_avg = silhouette_score(data_scaled, labels)\n",
        "    silhouette_scores.append(silhouette_avg)\n",
        "\n",
        "# Menampilkan grafik hasil analisis Silhouette Score\n",
        "plt.figure(figsize=(8, 5))\n",
        "plt.plot(range_clusters, silhouette_scores, marker='o')\n",
        "plt.title('Silhouette Score Analysis for Optimal k')\n",
        "plt.xlabel('Number of Clusters (k)')\n",
        "plt.ylabel('Silhouette Score')\n",
        "plt.show()\n",
        "\n",
        "# Menampilkan nilai Silhouette Score untuk setiap jumlah cluster\n",
        "for i, num_clusters in enumerate(range_clusters):\n",
        "    print(f\"Silhouette Score for {num_clusters} Clusters: {silhouette_scores[i]}\")"
      ],
      "metadata": {
        "colab": {
          "base_uri": "https://localhost:8080/",
          "height": 650
        },
        "id": "APo70u5vJ3t9",
        "outputId": "8d7e6aed-2e6d-4efb-f33a-8958b7cfa34c"
      },
      "execution_count": 50,
      "outputs": [
        {
          "output_type": "display_data",
          "data": {
            "text/plain": [
              "<Figure size 800x500 with 1 Axes>"
            ],
            "image/png": "[encoded data removed]"
          },
          "metadata": {}
        },
        {
          "output_type": "stream",
          "name": "stdout",
          "text": [
            "Silhouette Score for 2 Clusters: 0.9277381806756858\n",
            "Silhouette Score for 3 Clusters: 0.4834388206326827\n",
            "Silhouette Score for 4 Clusters: 0.49909930422024074\n",
            "Silhouette Score for 5 Clusters: 0.5004944811136975\n",
            "Silhouette Score for 6 Clusters: 0.5033262606829576\n",
            "Silhouette Score for 7 Clusters: 0.4553001683129448\n",
            "Silhouette Score for 8 Clusters: 0.4347901784903963\n",
            "Silhouette Score for 9 Clusters: 0.45233693328229324\n",
            "Silhouette Score for 10 Clusters: 0.4751328241558283\n"
          ]
        }
      ]
    },
    {
      "cell_type": "markdown",
      "source": [
        "Output: Grafik analisis Silhouette Score yang menunjukkan nilai Silhouette Score untuk setiap jumlah klaster dalam rentang yang ditentukan (2 hingga 10 klaster). Grafik ini membantu dalam menentukan jumlah optimal dari klaster dengan memperhatikan titik tertinggi pada kurva."
      ],
      "metadata": {
        "id": "kIexATeNKIhh"
      }
    },
    {
      "cell_type": "markdown",
      "source": [
        "## Davies-Bouldin Score\n",
        "Evaluasi K-Means menggunakan Davies-Bouldin Score membantu dalam menilai seberapa baik objek-data dalam suatu klaster dibandingkan dengan klaster lainnya. Davies-Bouldin Score memiliki interpretasi yang mirip dengan Silhouette Score, dan nilai rendah menunjukkan pemisahan yang lebih baik antar klaster."
      ],
      "metadata": {
        "id": "ouACVgOkNsz1"
      }
    },
    {
      "cell_type": "markdown",
      "source": [
        "\n",
        "\n",
        "```\n",
        "# Prompt: Beri kode untuk melakukan analisis Davies-Bouldin Score untuk menentukan jumlah optimal dari Clusters menggunakan algoritma K-Means pada kolom 'Rank', 'Username', 'Suscribers', 'Visits', 'Likes', dan 'Comments'. Tampilkan hasil analisis dalam bentuk grafik dan sertakan nilai Davies-Bouldin Score untuk setiap jumlah klaster.\n",
        "```\n",
        "\n"
      ],
      "metadata": {
        "id": "pbvHs1S9LJMw"
      }
    },
    {
      "cell_type": "code",
      "source": [
        "# Menyimpan nilai Davies-Bouldin Score untuk setiap jumlah cluster\n",
        "davies_bouldin_scores = []\n",
        "\n",
        "# Melakukan analisis Davies-Bouldin Score untuk setiap jumlah cluster\n",
        "for num_clusters in range_clusters:\n",
        "    kmeans = KMeans(n_clusters=num_clusters, n_init=10, random_state=0)\n",
        "    kmeans.fit(data_scaled)\n",
        "    labels = kmeans.labels_\n",
        "    davies_bouldin_avg = davies_bouldin_score(data_scaled, labels)\n",
        "    davies_bouldin_scores.append(davies_bouldin_avg)\n",
        "\n",
        "# Menampilkan grafik hasil analisis Davies-Bouldin Score\n",
        "plt.figure(figsize=(8, 5))\n",
        "plt.plot(range_clusters, davies_bouldin_scores, marker='o')\n",
        "plt.title('Davies-Bouldin Score Analysis for Optimal k')\n",
        "plt.xlabel('Number of Clusters (k)')\n",
        "plt.ylabel('Davies-Bouldin Score')\n",
        "plt.show()\n",
        "\n",
        "# Menampilkan nilai Davies-Bouldin Score untuk setiap jumlah cluster\n",
        "for i, num_clusters in enumerate(range_clusters):\n",
        "    print(f\"Davies-Bouldin Score for {num_clusters} Clusters: {davies_bouldin_scores[i]}\")"
      ],
      "metadata": {
        "colab": {
          "base_uri": "https://localhost:8080/",
          "height": 650
        },
        "id": "A2cjzQsELa0o",
        "outputId": "f1951d16-48d4-48a4-ed36-f5064161ebec"
      },
      "execution_count": 51,
      "outputs": [
        {
          "output_type": "display_data",
          "data": {
            "text/plain": [
              "<Figure size 800x500 with 1 Axes>"
            ],
            "image/png": "[encoded data removed]"
          },
          "metadata": {}
        },
        {
          "output_type": "stream",
          "name": "stdout",
          "text": [
            "Davies-Bouldin Score for 2 Clusters: 0.2605033153172859\n",
            "Davies-Bouldin Score for 3 Clusters: 0.6959501017978958\n",
            "Davies-Bouldin Score for 4 Clusters: 0.6901044402098662\n",
            "Davies-Bouldin Score for 5 Clusters: 0.6619961669839256\n",
            "Davies-Bouldin Score for 6 Clusters: 0.5944790366919019\n",
            "Davies-Bouldin Score for 7 Clusters: 0.6360092141608584\n",
            "Davies-Bouldin Score for 8 Clusters: 0.6682479428735928\n",
            "Davies-Bouldin Score for 9 Clusters: 0.5563643268639383\n",
            "Davies-Bouldin Score for 10 Clusters: 0.5918421843499974\n"
          ]
        }
      ]
    },
    {
      "cell_type": "markdown",
      "source": [
        "\n",
        "Output: Grafik analisis Davies-Bouldin Score yang menunjukkan nilai Davies-Bouldin Score untuk setiap jumlah klaster dalam rentang yang ditentukan (2 hingga 10 klaster). Grafik ini membantu dalam menentukan jumlah optimal dari klaster dengan memperhatikan titik terendah pada kurva."
      ],
      "metadata": {
        "id": "cTroedBhMBZj"
      }
    },
    {
      "cell_type": "markdown",
      "source": [
        "## Calinski-Harabasz Score\n",
        "Evaluasi K-Means menggunakan Calinski-Harabasz Score membantu menilai seberapa baik pemisahan antara klaster yang ada. Calinski-Harabasz Score cenderung lebih tinggi untuk klaster yang lebih terpisah dan lebih kompak."
      ],
      "metadata": {
        "id": "OrErg3fXN6vp"
      }
    },
    {
      "cell_type": "markdown",
      "source": [
        "\n",
        "\n",
        "```\n",
        "# Prompt: Beri kode untuk melakukan analisis Calinski-Harabasz Score untuk menentukan jumlah optimal dari Clusters menggunakan algoritma K-Means pada kolom 'Rank', 'Username', 'Suscribers', 'Visits', 'Likes', dan 'Comments'. Tampilkan hasil analisis dalam bentuk grafik dan sertakan nilai Calinski-Harabasz Score untuk setiap jumlah klaster.\n",
        "```\n",
        "\n"
      ],
      "metadata": {
        "id": "_P_Ol153MFGp"
      }
    },
    {
      "cell_type": "code",
      "source": [
        "# Menyimpan nilai Calinski-Harabasz Score untuk setiap jumlah cluster\n",
        "calinski_harabasz_scores = []\n",
        "\n",
        "# Melakukan analisis Calinski-Harabasz Score untuk setiap jumlah cluster\n",
        "for num_clusters in range_clusters:\n",
        "    kmeans = KMeans(n_clusters=num_clusters, n_init=10, random_state=0)\n",
        "    kmeans.fit(data_scaled)\n",
        "    labels = kmeans.labels_\n",
        "    calinski_harabasz_avg = calinski_harabasz_score(data_scaled, labels)\n",
        "    calinski_harabasz_scores.append(calinski_harabasz_avg)\n",
        "\n",
        "# Menampilkan grafik hasil analisis Calinski-Harabasz Score\n",
        "plt.figure(figsize=(8, 5))\n",
        "plt.plot(range_clusters, calinski_harabasz_scores, marker='o')\n",
        "plt.title('Calinski-Harabasz Score Analysis for Optimal k')\n",
        "plt.xlabel('Number of Clusters (k)')\n",
        "plt.ylabel('Calinski-Harabasz Score')\n",
        "plt.show()\n",
        "\n",
        "# Menampilkan nilai Calinski-Harabasz Score untuk setiap jumlah cluster\n",
        "for i, num_clusters in enumerate(range_clusters):\n",
        "    print(f\"Calinski-Harabasz Score for {num_clusters} Clusters: {calinski_harabasz_scores[i]}\")"
      ],
      "metadata": {
        "colab": {
          "base_uri": "https://localhost:8080/",
          "height": 650
        },
        "id": "BpsgXgv6MDS6",
        "outputId": "86517d3b-f902-4f86-d08d-e3d733600e91"
      },
      "execution_count": 52,
      "outputs": [
        {
          "output_type": "display_data",
          "data": {
            "text/plain": [
              "<Figure size 800x500 with 1 Axes>"
            ],
            "image/png": "[encoded data removed]"
          },
          "metadata": {}
        },
        {
          "output_type": "stream",
          "name": "stdout",
          "text": [
            "Calinski-Harabasz Score for 2 Clusters: 357.3691718895575\n",
            "Calinski-Harabasz Score for 3 Clusters: 402.07263133653925\n",
            "Calinski-Harabasz Score for 4 Clusters: 524.4427962123974\n",
            "Calinski-Harabasz Score for 5 Clusters: 586.82506514825\n",
            "Calinski-Harabasz Score for 6 Clusters: 591.0557119532211\n",
            "Calinski-Harabasz Score for 7 Clusters: 642.1316679207988\n",
            "Calinski-Harabasz Score for 8 Clusters: 648.9428568145233\n",
            "Calinski-Harabasz Score for 9 Clusters: 699.4803533758964\n",
            "Calinski-Harabasz Score for 10 Clusters: 753.7580482095037\n"
          ]
        }
      ]
    },
    {
      "cell_type": "markdown",
      "source": [
        "Output: Grafik analisis Calinski-Harabasz Score yang menunjukkan nilai Calinski-Harabasz Score untuk setiap jumlah klaster dalam rentang yang ditentukan (2 hingga 10 klaster). Grafik ini membantu dalam menentukan jumlah optimal dari klaster dengan memperhatikan titik tertinggi pada kurva."
      ],
      "metadata": {
        "id": "hTcYHMVXM1V1"
      }
    },
    {
      "cell_type": "markdown",
      "source": [
        "# Inputing New Data\n",
        "Inputing New Data adalah proses dimana kita menyajikan data baru ke dalam model yang telah dilatih sebelumnya untuk mendapatkan prediksi atau hasil yang diinginkan. Dalam konteks clustering menggunakan algoritma K-Means, inputing new data berarti memberikan data baru ke model K-Means untuk menentukan klaster mana yang paling cocok atau sesuai dengan data tersebut. Proses ini melibatkan standardisasi data baru (jika diperlukan), dan kemudian menggunakan model K-Means untuk memprediksi klaster yang sesuai dengan data baru tersebut."
      ],
      "metadata": {
        "id": "n6aBdED0OLv6"
      }
    },
    {
      "cell_type": "markdown",
      "source": [
        "\n",
        "\n",
        "```\n",
        "# Prompt: Beri kode untuk melakukan Inputing New Data menggunakan algoritma K-Means pada kolom 'Rank', 'Username', 'Suscribers', 'Visits', 'Likes', dan 'Comments'. Tampilkan hasil analisis berupa hasil prediksi.\n",
        "```\n",
        "\n"
      ],
      "metadata": {
        "id": "AFI5M5SNSshZ"
      }
    },
    {
      "cell_type": "code",
      "source": [
        "# Menentukan jumlah cluster yang optimal\n",
        "num_clusters = 3  # Gantilah dengan jumlah cluster yang telah ditentukan\n",
        "\n",
        "# Membuat dan melatih model K-Means\n",
        "kmeans = KMeans(n_clusters=num_clusters, n_init=10, random_state=0)\n",
        "kmeans.fit(data_scaled)\n",
        "\n",
        "# Data baru yang akan diprediksi\n",
        "new_rank = 100\n",
        "new_subscribers = 50000\n",
        "new_visits = 100000\n",
        "new_likes = 2000\n",
        "new_comments = 500\n",
        "new_data = [[new_rank, new_subscribers, new_visits, new_likes, new_comments]]\n",
        "\n",
        "# Memberikan nama kolom pada data baru\n",
        "new_data_df = pd.DataFrame(new_data, columns=['Rank', 'Subscribers', 'Visits', 'Likes', 'Comments'])\n",
        "\n",
        "# Standardisasi data baru\n",
        "new_data_scaled = scaler.transform(new_data_df)\n",
        "\n",
        "# Melakukan prediksi klaster untuk data baru\n",
        "predicted_label = kmeans.predict(new_data_scaled)\n",
        "\n",
        "# Menampilkan hasil prediksi\n",
        "print(f\"Predicted Label for New Data: {predicted_label[0]}\")\n",
        "\n",
        "# Menampilkan scatter plot hasil klastering dengan data baru\n",
        "plt.figure(figsize=(10, 6))\n",
        "\n",
        "# Scatter plot data untuk setiap klaster dengan warna yang berbeda\n",
        "for label in range(num_clusters):\n",
        "    cluster_data = df[df['label'] == label]\n",
        "    plt.scatter(cluster_data['Rank'], cluster_data['Subscribers'], label=f'Cluster {label}', alpha=0.7)\n",
        "\n",
        "# Plot pusat klaster (centroids) dengan warna merah\n",
        "centroids = scaler.inverse_transform(kmeans.cluster_centers_)\n",
        "plt.scatter(centroids[:, 0], centroids[:, 1], marker='X', s=200, c='red', label='Centroids')\n",
        "\n",
        "# Plot data baru dengan warna hitam sesuai hasil prediksi\n",
        "plt.scatter(new_data[0][0], new_data[0][1], marker='*', s=200, c='black', label='New Data (Predicted)')\n",
        "\n",
        "plt.title('K-Means Clustering for New Data Prediction')\n",
        "plt.xlabel('Rank')\n",
        "plt.ylabel('Subscribers')\n",
        "plt.legend()\n",
        "plt.show()"
      ],
      "metadata": {
        "colab": {
          "base_uri": "https://localhost:8080/",
          "height": 618
        },
        "id": "cs7a5-usPD2D",
        "outputId": "e3ab1e65-6313-4384-dac1-a9079631344d"
      },
      "execution_count": 63,
      "outputs": [
        {
          "output_type": "stream",
          "name": "stderr",
          "text": [
            "/usr/local/lib/python3.10/dist-packages/sklearn/base.py:432: UserWarning: X has feature names, but StandardScaler was fitted without feature names\n",
            "  warnings.warn(\n"
          ]
        },
        {
          "output_type": "stream",
          "name": "stdout",
          "text": [
            "Predicted Label for New Data: 1\n"
          ]
        },
        {
          "output_type": "display_data",
          "data": {
            "text/plain": [
              "<Figure size 1000x600 with 1 Axes>"
            ],
            "image/png": "[encoded data removed]"
          },
          "metadata": {}
        }
      ]
    },
    {
      "cell_type": "markdown",
      "source": [
        "Output: Scatter plot hasil klastering dengan data baru. Data baru diprediksi oleh model K-Means ke dalam salah satu dari tiga klaster yang telah ditentukan sebelumnya. Scatter plot menunjukkan data dalam klaster yang berbeda dengan warna yang berbeda."
      ],
      "metadata": {
        "id": "DD6ZHXV9SA-T"
      }
    }
  ]
}